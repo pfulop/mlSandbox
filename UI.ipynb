{
 "cells": [
  {
   "cell_type": "code",
   "execution_count": 1,
   "metadata": {},
   "outputs": [],
   "source": [
    "%matplotlib inline\n",
    "from torch.utils.data import Dataset \n",
    "import glob\n",
    "import torchvision.models as models\n",
    "from torchvision import transforms\n",
    "from torch import nn\n",
    "import torch\n",
    "import torch.optim as optim\n",
    "from torch.autograd import Variable\n",
    "from tqdm import tqdm\n",
    "import os\n",
    "from skimage import io, transform\n",
    "from PIL import Image\n",
    "import matplotlib.pyplot as plt\n",
    "import numpy as np\n",
    "import math\n",
    "from torchvision import utils"
   ]
  },
  {
   "cell_type": "code",
   "execution_count": 2,
   "metadata": {},
   "outputs": [],
   "source": [
    "width = 36\n",
    "height = 64\n",
    "emb_w = math.ceil(width / 4)\n",
    "emb_h = math.ceil(height / 4)\n",
    "np.random.seed(1)\n",
    "h= 64\n",
    "n = 64\n",
    "lr = 0.001"
   ]
  },
  {
   "cell_type": "code",
   "execution_count": 3,
   "metadata": {},
   "outputs": [],
   "source": [
    "MODEL_PATH = '/run/media/backman/yay/uiD'\n",
    "MODEL2_PATH = '/run/media/backman/yay/uiG'\n",
    "\n",
    "def save_model():\n",
    "    torch.save(netD.state_dict(), MODEL_PATH)\n",
    "    torch.save(netG.state_dict(), MODEL2_PATH)\n",
    "    \n",
    "def load_model():\n",
    "    netD.load_state_dict(torch.load(MODEL_PATH))\n",
    "    netG.load_state_dict(torch.load(MODEL2_PATH))"
   ]
  },
  {
   "cell_type": "code",
   "execution_count": 4,
   "metadata": {},
   "outputs": [],
   "source": [
    "def resize_images():\n",
    "    root_dir = '/run/media/backman/yay/unique_uis/combined/'\n",
    "    new_dir = '/run/media/backman/yay/unique_uis/resized/'\n",
    "    files = glob.glob(root_dir + '*.jpg')\n",
    "    for file in tqdm(files):\n",
    "        try:\n",
    "            im = Image.open(file)\n",
    "            im.thumbnail((width,height), Image.ANTIALIAS)\n",
    "            assert im.size == (width,height)\n",
    "            im.save(new_dir+os.path.basename(file),\"JPEG\")\n",
    "        except IOError:\n",
    "            pass\n",
    "        except AssertionError:\n",
    "            pass"
   ]
  },
  {
   "cell_type": "code",
   "execution_count": 5,
   "metadata": {},
   "outputs": [],
   "source": [
    "#resize_images()"
   ]
  },
  {
   "cell_type": "code",
   "execution_count": 6,
   "metadata": {},
   "outputs": [],
   "source": [
    "use_cuda = torch.cuda.is_available()\n",
    "dtype = torch.cuda.FloatTensor if use_cuda else torch.FloatTensor\n",
    "bs = 16"
   ]
  },
  {
   "cell_type": "code",
   "execution_count": 7,
   "metadata": {},
   "outputs": [],
   "source": [
    "class GoogleUIDataset(Dataset):\n",
    "\n",
    "    def __init__(self, root_dir, transform=None, max = None):\n",
    "        self.root_dir = root_dir\n",
    "        self.files = glob.glob(root_dir + '*.jpg')\n",
    "        if max:\n",
    "            self.files = np.random.permutation(self.files)[:max]\n",
    "        self.transform = transform\n",
    "\n",
    "    def __len__(self):\n",
    "        return len(self.files)\n",
    "\n",
    "    def __getitem__(self, idx):\n",
    "        img_name = os.path.join(self.files[idx])\n",
    "        image = io.imread(img_name)\n",
    "        if self.transform:\n",
    "            image = self.transform(image)\n",
    "        return image"
   ]
  },
  {
   "cell_type": "code",
   "execution_count": 8,
   "metadata": {},
   "outputs": [],
   "source": [
    "class Rescale(object):\n",
    "    def __init__(self, output_size):\n",
    "        assert isinstance(output_size, tuple)\n",
    "        self.output_size = output_size\n",
    "\n",
    "    def __call__(self, image):\n",
    "\n",
    "        h, w = image.shape[:2]\n",
    "        new_h, new_w = self.output_size\n",
    "        new_h, new_w = int(new_h), int(new_w)\n",
    "        img = transform.resize(image, (new_h, new_w), mode='constant')\n",
    "        return img"
   ]
  },
  {
   "cell_type": "code",
   "execution_count": 9,
   "metadata": {},
   "outputs": [],
   "source": [
    "g = GoogleUIDataset('/run/media/backman/yay/unique_uis/resized/',\n",
    "                                                   transform=transforms.Compose([\n",
    "#                                                     Rescale((36, 64)),\n",
    "                                                    transforms.ToTensor(),\n",
    "                                                    transforms.Normalize((0.5, 0.5, 0.5), (0.5, 0.5, 0.5)),\n",
    "                                                   ]),\n",
    "                  max=10000)\n",
    "guid = torch.utils.data.DataLoader(g,\n",
    "                                   bs, True, num_workers = 1)"
   ]
  },
  {
   "cell_type": "code",
   "execution_count": 10,
   "metadata": {},
   "outputs": [],
   "source": [
    "def weights_init(m):\n",
    "    classname = m.__class__.__name__\n",
    "    if classname.find('Conv') != -1 or classname.find('ConvTranspose2d') != -1:\n",
    "        m.weight.data.normal_(0.0, 0.02)\n",
    "    elif classname.find('BatchNorm') != -1:\n",
    "        m.weight.data.normal_(1.0, 0.02)\n",
    "        m.bias.data.fill_(0)"
   ]
  },
  {
   "cell_type": "code",
   "execution_count": 11,
   "metadata": {},
   "outputs": [],
   "source": [
    "class Flatten(nn.Module):\n",
    "    def forward(self, x):\n",
    "        x = x.view(x.size(0), -1)\n",
    "        return x\n",
    "    \n",
    "class Reshape(nn.Module):\n",
    "    def forward(self, x):\n",
    "        x = x.view(-1, 4*n, emb_h, emb_w)\n",
    "        return x"
   ]
  },
  {
   "cell_type": "code",
   "execution_count": 12,
   "metadata": {},
   "outputs": [],
   "source": [
    "def conv_sub_block(in_c, out_c, sub = False):\n",
    "    conv_sub_arr = []\n",
    "    conv_sub_arr.append(nn.Conv2d(in_c, out_c, 3, padding=1, bias=False))\n",
    "    conv_sub_arr.append(nn.LeakyReLU())\n",
    "#         conv_sub_arr.append(nn.Conv2d(out_c, out_c, 3, padding=1, bias=False))\n",
    "#         conv_sub_arr.append(nn.ReLU())\n",
    "    if sub:\n",
    "        conv_sub_arr.append(nn.Conv2d(out_c, out_c, 3, stride = 2, padding=1, bias=False))\n",
    "        conv_sub_arr.append(nn.LeakyReLU())\n",
    "        conv_sub_arr.append(torch.nn.Dropout())\n",
    "        \n",
    "    conv_sub_arr.append(nn.BatchNorm2d(out_c))\n",
    "    return conv_sub_arr\n",
    "\n",
    "def deconv_up_block(in_c, out_c = None, up = False):\n",
    "    if out_c is None:\n",
    "        out_c = in_c\n",
    "    deconv_sub_arr = []\n",
    "    if up:\n",
    "        deconv_sub_arr.append(nn.Dropout())\n",
    "\n",
    "    deconv_sub_arr.append(nn.Conv2d(in_c, out_c, 3, padding=1, bias=False))\n",
    "    deconv_sub_arr.append(nn.LeakyReLU())\n",
    "#         deconv_sub_arr.append(nn.Conv2d(out_c, out_c, 3, padding=1, bias=False))\n",
    "#         deconv_sub_arr.append(nn.ReLU())\n",
    "    if up:\n",
    "        deconv_sub_arr.append(nn.ConvTranspose2d(out_c, out_c, 2, 2, bias=False))\n",
    "#         deconv_sub_arr.append(nn.Upsample(scale_factor = 2, mode='nearest'))\n",
    "        deconv_sub_arr.append(nn.LeakyReLU())\n",
    "    return deconv_sub_arr\n",
    "\n"
   ]
  },
  {
   "cell_type": "code",
   "execution_count": 13,
   "metadata": {},
   "outputs": [],
   "source": [
    "class D(nn.Module):\n",
    "\n",
    "  \n",
    "\n",
    "    def __init__(self):\n",
    "        super(D, self).__init__()\n",
    "\n",
    "        layers = []\n",
    "        layers.append(nn.Conv2d(3, n, 3, padding=1, bias=False))\n",
    "        layers += conv_sub_block(n, n*2, True)\n",
    "        layers += conv_sub_block(n*2, n*4, True)\n",
    "#         layers += self.conv_sub_block(n*3, n*4, True)\n",
    "#         layers += self.conv_sub_block(n*4, n*5, True)\n",
    "#         layers += self.conv_sub_block(n*5, n*6, True)\n",
    "#         layers += self.conv_sub_block(n*6, n*7, True)\n",
    "        layers += conv_sub_block(n*4, n*4)\n",
    "        layers.append(Flatten())\n",
    "        layers.append(nn.Linear(4*emb_h*emb_w*n, h))\n",
    " \n",
    "        layers.append(nn.Linear(h,emb_h*emb_w*n*4))\n",
    "        layers.append(Reshape())\n",
    "#         layers += self.deconv_up_block(n*7, n*6, up = True)\n",
    "#         layers += self.deconv_up_block(n*6, n*5, True)\n",
    "#         layers += self.deconv_up_block(n*5, n*4, True)\n",
    "#         layers += self.deconv_up_block(n*4, n*3, True)\n",
    "        layers += deconv_up_block(n*4, n*2, True)\n",
    "        layers += deconv_up_block(n*2, n*2, True)\n",
    "        layers += deconv_up_block(n*2, n)\n",
    "        layers.append(nn.Conv2d(n, 3, 3, padding=1, bias=False))\n",
    "        layers.append(nn.Tanh())\n",
    "        \n",
    "        self.model = nn.Sequential(*layers)\n",
    "\n",
    "    def forward(self, input):\n",
    "        return self.model(input)\n",
    "\n"
   ]
  },
  {
   "cell_type": "code",
   "execution_count": 14,
   "metadata": {},
   "outputs": [],
   "source": [
    "class G(nn.Module):\n",
    "    \n",
    "    def __init__(self):\n",
    "        super(G, self).__init__()\n",
    "\n",
    "        layers = []\n",
    "        layers.append(nn.Linear(h,4*emb_h*emb_w*n)) \n",
    "        layers.append(Reshape())\n",
    "#         layers += self.deconv_up_block(n*7, n*6, up = True)\n",
    "#         layers += self.deconv_up_block(n*6, n*5, True)\n",
    "#         layers += self.deconv_up_block(n*5, n*4, True)\n",
    "#         layers += self.deconv_up_block(n*4, n*3, True)\n",
    "        layers += deconv_up_block(n*4, n*2, True)\n",
    "        layers += deconv_up_block(n*2, n*2, True)\n",
    "        layers += deconv_up_block(n*2, n)\n",
    "        layers.append(nn.Conv2d(n, 3, 3, padding=1, bias=False))\n",
    "        layers.append(nn.Tanh())\n",
    "\n",
    "        self.model = nn.Sequential(*layers)\n",
    "\n",
    "    def forward(self, input):\n",
    "        return self.model(input)"
   ]
  },
  {
   "cell_type": "code",
   "execution_count": 15,
   "metadata": {},
   "outputs": [],
   "source": [
    "netD = D()"
   ]
  },
  {
   "cell_type": "code",
   "execution_count": 16,
   "metadata": {},
   "outputs": [],
   "source": [
    "netG = G()"
   ]
  },
  {
   "cell_type": "code",
   "execution_count": 17,
   "metadata": {},
   "outputs": [],
   "source": [
    "noise = dtype(bs, 64)"
   ]
  },
  {
   "cell_type": "code",
   "execution_count": 18,
   "metadata": {},
   "outputs": [
    {
     "data": {
      "text/plain": [
       "D (\n",
       "  (model): Sequential (\n",
       "    (0): Conv2d(3, 64, kernel_size=(3, 3), stride=(1, 1), padding=(1, 1), bias=False)\n",
       "    (1): Conv2d(64, 128, kernel_size=(3, 3), stride=(1, 1), padding=(1, 1), bias=False)\n",
       "    (2): LeakyReLU (0.01)\n",
       "    (3): Conv2d(128, 128, kernel_size=(3, 3), stride=(2, 2), padding=(1, 1), bias=False)\n",
       "    (4): LeakyReLU (0.01)\n",
       "    (5): Dropout (p = 0.5)\n",
       "    (6): BatchNorm2d(128, eps=1e-05, momentum=0.1, affine=True)\n",
       "    (7): Conv2d(128, 256, kernel_size=(3, 3), stride=(1, 1), padding=(1, 1), bias=False)\n",
       "    (8): LeakyReLU (0.01)\n",
       "    (9): Conv2d(256, 256, kernel_size=(3, 3), stride=(2, 2), padding=(1, 1), bias=False)\n",
       "    (10): LeakyReLU (0.01)\n",
       "    (11): Dropout (p = 0.5)\n",
       "    (12): BatchNorm2d(256, eps=1e-05, momentum=0.1, affine=True)\n",
       "    (13): Conv2d(256, 256, kernel_size=(3, 3), stride=(1, 1), padding=(1, 1), bias=False)\n",
       "    (14): LeakyReLU (0.01)\n",
       "    (15): BatchNorm2d(256, eps=1e-05, momentum=0.1, affine=True)\n",
       "    (16): Flatten (\n",
       "    )\n",
       "    (17): Linear (36864 -> 64)\n",
       "    (18): Linear (64 -> 36864)\n",
       "    (19): Reshape (\n",
       "    )\n",
       "    (20): Dropout (p = 0.5)\n",
       "    (21): Conv2d(256, 128, kernel_size=(3, 3), stride=(1, 1), padding=(1, 1), bias=False)\n",
       "    (22): LeakyReLU (0.01)\n",
       "    (23): ConvTranspose2d(128, 128, kernel_size=(2, 2), stride=(2, 2), bias=False)\n",
       "    (24): LeakyReLU (0.01)\n",
       "    (25): Dropout (p = 0.5)\n",
       "    (26): Conv2d(128, 128, kernel_size=(3, 3), stride=(1, 1), padding=(1, 1), bias=False)\n",
       "    (27): LeakyReLU (0.01)\n",
       "    (28): ConvTranspose2d(128, 128, kernel_size=(2, 2), stride=(2, 2), bias=False)\n",
       "    (29): LeakyReLU (0.01)\n",
       "    (30): Conv2d(128, 64, kernel_size=(3, 3), stride=(1, 1), padding=(1, 1), bias=False)\n",
       "    (31): LeakyReLU (0.01)\n",
       "    (32): Conv2d(64, 3, kernel_size=(3, 3), stride=(1, 1), padding=(1, 1), bias=False)\n",
       "    (33): Tanh ()\n",
       "  )\n",
       ")"
      ]
     },
     "execution_count": 18,
     "metadata": {},
     "output_type": "execute_result"
    }
   ],
   "source": [
    "if use_cuda:\n",
    "    netG = netG.cuda()\n",
    "    netD = netD.cuda()\n",
    "netG.apply(weights_init)\n",
    "netD.apply(weights_init)"
   ]
  },
  {
   "cell_type": "code",
   "execution_count": 19,
   "metadata": {},
   "outputs": [],
   "source": [
    "optimizerG = optim.Adam(netG.parameters(), lr =lr)\n",
    "optimizerD = optim.Adam(netD.parameters(), lr = lr)"
   ]
  },
  {
   "cell_type": "code",
   "execution_count": 20,
   "metadata": {},
   "outputs": [],
   "source": [
    "noise = Variable(noise)\n",
    "ms = []"
   ]
  },
  {
   "cell_type": "code",
   "execution_count": 21,
   "metadata": {},
   "outputs": [],
   "source": [
    "def get_real_image(batch):\n",
    "    var = batch\n",
    "    if use_cuda:\n",
    "        var = var.cuda()\n",
    "    return Variable(var)"
   ]
  },
  {
   "cell_type": "code",
   "execution_count": 22,
   "metadata": {},
   "outputs": [],
   "source": [
    "def get_fake_image():\n",
    "    noise.data.normal_(0, 1)\n",
    "    return noise"
   ]
  },
  {
   "cell_type": "code",
   "execution_count": 23,
   "metadata": {},
   "outputs": [],
   "source": [
    "def show_image(net):\n",
    "    example =   net(get_fake_image()).data.cpu()\n",
    "    utils.make_grid(example)\n",
    "    im = example / 2 +0.5\n",
    "    im = im.numpy()\n",
    "    plt.imshow(np.transpose(im[1], (1,2,0)))"
   ]
  },
  {
   "cell_type": "code",
   "execution_count": 24,
   "metadata": {},
   "outputs": [],
   "source": [
    "def adjust_learning_rate(optimizer, lr):\n",
    "    for param_group in optimizer.param_groups:\n",
    "        param_group['lr'] = lr"
   ]
  },
  {
   "cell_type": "code",
   "execution_count": 25,
   "metadata": {},
   "outputs": [],
   "source": [
    "def make_trainable(net, val): \n",
    "    for p in net.parameters(): p.requires_grad = val"
   ]
  },
  {
   "cell_type": "code",
   "execution_count": 26,
   "metadata": {},
   "outputs": [],
   "source": [
    "def train(n_epochs = 1, k_t = 0, lambda_k = 0.001, gamma = 0.5):\n",
    "    n_batches = len(guid)\n",
    "    for epoch in tqdm(range(n_epochs)):\n",
    "        data_iter = iter(guid)\n",
    "        step = 0\n",
    "        n = len(guid)\n",
    "        while step < n:\n",
    "            max_D_train = 5 if n - step >= 5 else 1 \n",
    "#             for _ in range(max_D_train):\n",
    "            image = next(data_iter)\n",
    "            step += 1\n",
    "            #real image\n",
    "            real = get_real_image(image)\n",
    "            netD.zero_grad()\n",
    "            loss_real = torch.mean(torch.abs(netD(real) - real))\n",
    "\n",
    "            #fake image\n",
    "            fake = netG(get_fake_image())\n",
    "            loss_fake = torch.mean(torch.abs(netD(fake) - fake))\n",
    "            loss_discriminator = loss_real - k_t * loss_fake\n",
    "            loss_discriminator.backward()\n",
    "            optimizerD.step()\n",
    "\n",
    "            make_trainable(netD, False)\n",
    "\n",
    "            netG.zero_grad()\n",
    "            #discriminator should not be trainable here\n",
    "            fake = get_fake_image()\n",
    "            loss_generator = torch.mean(torch.abs(netG(fake) - netD(netG(fake))))\n",
    "            loss_generator.backward()\n",
    "            optimizerG.step()\n",
    "            \n",
    "            update = gamma * loss_real - loss_generator\n",
    "            m = loss_real + update\n",
    "            update = update.data[0]\n",
    "            \n",
    "            k_t += lambda_k * update \n",
    "            k_t = max(min(1, k_t), 0)#bout ingore?\n",
    "            \n",
    "            make_trainable(netD, True)\n",
    "            \n",
    "        m = m.data[0]\n",
    "        ms.append(m)\n",
    "        \n",
    "        if epoch % 5 == 0 or epoch == n_epochs - 1:\n",
    "            print(f'loss_generator: {loss_generator.data[0]};\\\n",
    "                  m: {m};\\\n",
    "                  loss_discriminator:  {loss_discriminator.data[0]}')\n",
    "                \n",
    "    return k_t\n",
    "                \n",
    "            \n",
    "            \n",
    "                \n",
    "        "
   ]
  },
  {
   "cell_type": "code",
   "execution_count": 27,
   "metadata": {},
   "outputs": [
    {
     "name": "stderr",
     "output_type": "stream",
     "text": [
      "100%|██████████| 1/1 [01:50<00:00, 110.58s/it]"
     ]
    },
    {
     "name": "stdout",
     "output_type": "stream",
     "text": [
      "loss_generator: 0.10315725207328796;                  m: 0.22952982783317566;                  loss_discriminator:  0.22176089882850647\n"
     ]
    },
    {
     "name": "stderr",
     "output_type": "stream",
     "text": [
      "\n"
     ]
    }
   ],
   "source": [
    "k_t = train()"
   ]
  },
  {
   "cell_type": "code",
   "execution_count": 28,
   "metadata": {},
   "outputs": [],
   "source": [
    "#load_model()"
   ]
  },
  {
   "cell_type": "code",
   "execution_count": 29,
   "metadata": {},
   "outputs": [
    {
     "data": {
      "image/png": "[encoded data removed]",
      "text/plain": [
       "<matplotlib.figure.Figure at 0x7f12352c0a20>"
      ]
     },
     "metadata": {},
     "output_type": "display_data"
    }
   ],
   "source": [
    "show_image(netG)"
   ]
  },
  {
   "cell_type": "code",
   "execution_count": 30,
   "metadata": {},
   "outputs": [
    {
     "name": "stderr",
     "output_type": "stream",
     "text": [
      " 50%|█████     | 1/2 [01:53<01:53, 113.58s/it]"
     ]
    },
    {
     "name": "stdout",
     "output_type": "stream",
     "text": [
      "loss_generator: 0.1058863177895546;                  m: 0.1688733696937561;                  loss_discriminator:  0.18317312002182007\n"
     ]
    },
    {
     "name": "stderr",
     "output_type": "stream",
     "text": [
      "\r",
      "100%|██████████| 2/2 [03:47<00:00, 113.66s/it]"
     ]
    },
    {
     "name": "stdout",
     "output_type": "stream",
     "text": [
      "loss_generator: 0.11051622778177261;                  m: 0.20991960167884827;                  loss_discriminator:  0.21356049180030823\n"
     ]
    },
    {
     "name": "stderr",
     "output_type": "stream",
     "text": [
      "\n"
     ]
    }
   ],
   "source": [
    "k_t = train(2, k_t)"
   ]
  },
  {
   "cell_type": "code",
   "execution_count": 31,
   "metadata": {},
   "outputs": [
    {
     "data": {
      "image/png": "[encoded data removed]",
      "text/plain": [
       "<matplotlib.figure.Figure at 0x7f122d837470>"
      ]
     },
     "metadata": {},
     "output_type": "display_data"
    }
   ],
   "source": [
    "show_image(netG)"
   ]
  },
  {
   "cell_type": "code",
   "execution_count": 32,
   "metadata": {},
   "outputs": [
    {
     "name": "stderr",
     "output_type": "stream",
     "text": [
      " 20%|██        | 1/5 [01:53<07:35, 113.98s/it]"
     ]
    },
    {
     "name": "stdout",
     "output_type": "stream",
     "text": [
      "loss_generator: 0.12397450953722;                  m: 0.2046774923801422;                  loss_discriminator:  0.21908731758594513\n"
     ]
    },
    {
     "name": "stderr",
     "output_type": "stream",
     "text": [
      "100%|██████████| 5/5 [09:25<00:00, 113.14s/it]"
     ]
    },
    {
     "name": "stdout",
     "output_type": "stream",
     "text": [
      "loss_generator: 0.07378298044204712;                  m: 0.16960525512695312;                  loss_discriminator:  0.16225391626358032\n"
     ]
    },
    {
     "name": "stderr",
     "output_type": "stream",
     "text": [
      "\n"
     ]
    }
   ],
   "source": [
    "k_t = train(5, k_t)"
   ]
  },
  {
   "cell_type": "code",
   "execution_count": 33,
   "metadata": {},
   "outputs": [
    {
     "data": {
      "image/png": "[encoded data removed]",
      "text/plain": [
       "<matplotlib.figure.Figure at 0x7f122ced3898>"
      ]
     },
     "metadata": {},
     "output_type": "display_data"
    }
   ],
   "source": [
    "show_image(netG)"
   ]
  },
  {
   "cell_type": "code",
   "execution_count": null,
   "metadata": {},
   "outputs": [],
   "source": [
    "#save_model()"
   ]
  },
  {
   "cell_type": "code",
   "execution_count": null,
   "metadata": {},
   "outputs": [
    {
     "name": "stderr",
     "output_type": "stream",
     "text": [
      "\r",
      "  0%|          | 0/5 [00:00<?, ?it/s]"
     ]
    }
   ],
   "source": [
    "lr = lr / 2\n",
    "adjust_learning_rate(optimizerD,lr)\n",
    "adjust_learning_rate(optimizerG,lr)\n",
    "k_t = train(5, k_t)"
   ]
  },
  {
   "cell_type": "code",
   "execution_count": null,
   "metadata": {},
   "outputs": [],
   "source": [
    "show_image(netG)"
   ]
  },
  {
   "cell_type": "code",
   "execution_count": null,
   "metadata": {},
   "outputs": [],
   "source": [
    "k_t = train(100, k_t)"
   ]
  },
  {
   "cell_type": "code",
   "execution_count": null,
   "metadata": {},
   "outputs": [],
   "source": [
    "show_image(netG)"
   ]
  },
  {
   "cell_type": "code",
   "execution_count": null,
   "metadata": {},
   "outputs": [],
   "source": [
    "lr = lr / 2\n",
    "optimizerG = optim.Adam(netG.parameters(), lr = lr)\n",
    "optimizerD = optim.Adam(netD.parameters(), lr = lr)\n",
    "k_t = train(100, k_t)\n",
    "lr = lr / 2\n",
    "optimizerG = optim.Adam(netG.parameters(), lr = lr)\n",
    "optimizerD = optim.Adam(netD.parameters(), lr = lr)\n",
    "k_t = train(100, k_t)\n",
    "lr = lr / 2\n",
    "optimizerG = optim.Adam(netG.parameters(), lr = lr)\n",
    "optimizerD = optim.Adam(netD.parameters(), lr = lr)\n",
    "k_t = train(100, k_t)"
   ]
  },
  {
   "cell_type": "code",
   "execution_count": null,
   "metadata": {},
   "outputs": [],
   "source": [
    "show_image(netG)"
   ]
  },
  {
   "cell_type": "code",
   "execution_count": null,
   "metadata": {},
   "outputs": [],
   "source": [
    "lr = lr / 2\n",
    "optimizerG = optim.Adam(netG.parameters(), lr = lr)\n",
    "optimizerD = optim.Adam(netD.parameters(), lr = lr)\n",
    "k_t = train(200, k_t)\n",
    "lr = lr / 2\n",
    "optimizerG = optim.Adam(netG.parameters(), lr = lr)\n",
    "optimizerD = optim.Adam(netD.parameters(), lr = lr)\n",
    "k_t = train(200, k_t)\n",
    "lr = lr / 2\n",
    "optimizerG = optim.Adam(netG.parameters(), lr = lr)\n",
    "optimizerD = optim.Adam(netD.parameters(), lr = lr)\n",
    "k_t = train(200, k_t)"
   ]
  },
  {
   "cell_type": "code",
   "execution_count": null,
   "metadata": {},
   "outputs": [],
   "source": [
    "show_image(netG)"
   ]
  },
  {
   "cell_type": "code",
   "execution_count": null,
   "metadata": {},
   "outputs": [],
   "source": [
    "lr = lr / 2\n",
    "optimizerG = optim.Adam(netG.parameters(), lr = lr)\n",
    "optimizerD = optim.Adam(netD.parameters(), lr = lr)\n",
    "k_t = train(200, k_t)"
   ]
  },
  {
   "cell_type": "code",
   "execution_count": null,
   "metadata": {},
   "outputs": [],
   "source": [
    "show_image(netG)"
   ]
  }
 ],
 "metadata": {
  "kernelspec": {
   "display_name": "Python 3",
   "language": "python",
   "name": "python3"
  },
  "language_info": {
   "codemirror_mode": {
    "name": "ipython",
    "version": 3
   },
   "file_extension": ".py",
   "mimetype": "text/x-python",
   "name": "python",
   "nbconvert_exporter": "python",
   "pygments_lexer": "ipython3",
   "version": "3.6.3"
  }
 },
 "nbformat": 4,
 "nbformat_minor": 2
}
