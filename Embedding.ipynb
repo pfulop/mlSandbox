{
 "cells": [
  {
   "cell_type": "code",
   "execution_count": 1,
   "metadata": {},
   "outputs": [
    {
     "name": "stderr",
     "output_type": "stream",
     "text": [
      "/usr/lib/python3.6/importlib/_bootstrap.py:219: RuntimeWarning: compiletime version 3.5 of module 'tensorflow.python.framework.fast_tensor_util' does not match runtime version 3.6\n",
      "  return f(*args, **kwds)\n"
     ]
    }
   ],
   "source": [
    "import tensorflow as tf\n",
    "import json\n",
    "import numpy as np\n",
    "import os\n",
    "from PIL import Image"
   ]
  },
  {
   "cell_type": "code",
   "execution_count": 2,
   "metadata": {},
   "outputs": [],
   "source": [
    "names = json.load(open('/run/media/backman/yay/ui_layout_vectors/ui_names.json'))"
   ]
  },
  {
   "cell_type": "code",
   "execution_count": 3,
   "metadata": {},
   "outputs": [],
   "source": [
    "names = names['ui_names']\n",
    "names = np.asarray(names)"
   ]
  },
  {
   "cell_type": "code",
   "execution_count": 4,
   "metadata": {},
   "outputs": [
    {
     "data": {
      "text/plain": [
       "72103"
      ]
     },
     "execution_count": 4,
     "metadata": {},
     "output_type": "execute_result"
    }
   ],
   "source": [
    "len(names)"
   ]
  },
  {
   "cell_type": "code",
   "execution_count": 5,
   "metadata": {},
   "outputs": [],
   "source": [
    "vectors = np.load('/run/media/backman/yay/ui_layout_vectors/ui_vectors.npy')"
   ]
  },
  {
   "cell_type": "code",
   "execution_count": 6,
   "metadata": {},
   "outputs": [
    {
     "data": {
      "text/plain": [
       "(72103, 64)"
      ]
     },
     "execution_count": 6,
     "metadata": {},
     "output_type": "execute_result"
    }
   ],
   "source": [
    "vectors.shape"
   ]
  },
  {
   "cell_type": "code",
   "execution_count": 7,
   "metadata": {},
   "outputs": [],
   "source": [
    "idxs = np.random.permutation(len(names))"
   ]
  },
  {
   "cell_type": "code",
   "execution_count": 8,
   "metadata": {},
   "outputs": [],
   "source": [
    "max = 125*125"
   ]
  },
  {
   "cell_type": "code",
   "execution_count": 9,
   "metadata": {},
   "outputs": [],
   "source": [
    "vectors = vectors[idxs][:max]"
   ]
  },
  {
   "cell_type": "code",
   "execution_count": 10,
   "metadata": {},
   "outputs": [],
   "source": [
    "size, embedding_size = vectors.shape"
   ]
  },
  {
   "cell_type": "code",
   "execution_count": 11,
   "metadata": {},
   "outputs": [],
   "source": [
    "part = names[idxs][:max]\n"
   ]
  },
  {
   "cell_type": "code",
   "execution_count": 12,
   "metadata": {},
   "outputs": [],
   "source": [
    "p2i = dict((v,k) for k,v in enumerate(part))"
   ]
  },
  {
   "cell_type": "code",
   "execution_count": 13,
   "metadata": {},
   "outputs": [
    {
     "data": {
      "text/plain": [
       "((15625,), (15625, 64))"
      ]
     },
     "execution_count": 13,
     "metadata": {},
     "output_type": "execute_result"
    }
   ],
   "source": [
    "part.shape, vectors.shape"
   ]
  },
  {
   "cell_type": "code",
   "execution_count": 14,
   "metadata": {},
   "outputs": [],
   "source": [
    "indexes = max"
   ]
  },
  {
   "cell_type": "code",
   "execution_count": 15,
   "metadata": {},
   "outputs": [],
   "source": [
    "tf.reset_default_graph()"
   ]
  },
  {
   "cell_type": "code",
   "execution_count": 16,
   "metadata": {},
   "outputs": [],
   "source": [
    "embeddings = tf.get_variable('embedding', initializer = tf.constant(vectors))"
   ]
  },
  {
   "cell_type": "code",
   "execution_count": 17,
   "metadata": {},
   "outputs": [],
   "source": [
    "indexes = tf.get_variable('index', initializer = tf.constant(indexes))"
   ]
  },
  {
   "cell_type": "code",
   "execution_count": 18,
   "metadata": {},
   "outputs": [],
   "source": [
    "embed = tf.nn.embedding_lookup(embeddings, indexes)"
   ]
  },
  {
   "cell_type": "code",
   "execution_count": 19,
   "metadata": {},
   "outputs": [],
   "source": [
    "metadata_file = '/run/media/backman/yay/ui_embs/metadata.tsv'\n",
    "config = tf.contrib.tensorboard.plugins.projector.ProjectorConfig()\n",
    "emb_proj = config.embeddings.add()\n",
    "emb_proj.tensor_name = 'embedding'\n",
    "emb_proj.sprite.image_path = 'spritesheet.png'\n",
    "emb_proj.sprite.single_image_dim.extend([64,64])\n",
    "emb_proj.metadata_path = metadata_file\n",
    "summary_writer = tf.summary.FileWriter('/run/media/backman/yay/ui_embs/')\n",
    "tf.contrib.tensorboard.plugins.projector.visualize_embeddings(summary_writer, config)"
   ]
  },
  {
   "cell_type": "code",
   "execution_count": 20,
   "metadata": {},
   "outputs": [],
   "source": [
    "root_dir = '/run/media/backman/yay/unique_uis/resized/'\n",
    "# images = [Image.open(root_dir + filename.replace('png','jpg')) for filename in part]"
   ]
  },
  {
   "cell_type": "code",
   "execution_count": 21,
   "metadata": {},
   "outputs": [],
   "source": [
    "width = 64 * 125\n",
    "height = 64 * 125"
   ]
  },
  {
   "cell_type": "code",
   "execution_count": 22,
   "metadata": {},
   "outputs": [],
   "source": [
    "master = Image.new(\n",
    "mode = 'RGBA',\n",
    "size = (width, height),\n",
    "color=(255,255,255,0)\n",
    ")"
   ]
  },
  {
   "cell_type": "code",
   "execution_count": 23,
   "metadata": {},
   "outputs": [],
   "source": [
    "metadata = 'Name\\tId\\n'\n",
    "for i,image in enumerate(part):\n",
    "    location_x = (i % 125) * 64 + 14\n",
    "    location_y = (i // 125) * 64\n",
    "    location = (location_x, location_y)\n",
    "    master.paste(Image.open(root_dir + image.replace('png','jpg')), location)\n",
    "    metadata += f'{image}\\t{i}\\n'\n",
    "    \n",
    "master.save('/run/media/backman/yay/ui_embs/spritesheet.png')\n",
    "m_file = open(\"/run/media/backman/yay/ui_embs/metadata.tsv\",\"w\")\n",
    "m_file.write(metadata)\n",
    "m_file.close()"
   ]
  },
  {
   "cell_type": "code",
   "execution_count": 24,
   "metadata": {},
   "outputs": [
    {
     "data": {
      "text/plain": [
       "'/run/media/backman/yay/ui_embs/model.ckpt-1'"
      ]
     },
     "execution_count": 24,
     "metadata": {},
     "output_type": "execute_result"
    }
   ],
   "source": [
    "saver = tf.train.Saver()\n",
    "session = tf.Session()\n",
    "session.run(tf.global_variables_initializer())\n",
    "saver.save(session, os.path.join('/run/media/backman/yay/ui_embs/', \"model.ckpt\"), 1)"
   ]
  },
  {
   "cell_type": "code",
   "execution_count": 40,
   "metadata": {},
   "outputs": [],
   "source": [
    "close_to_me = tf.placeholder(tf.float32, [1, vectors.shape[1]])\n",
    "\n",
    "norm_emb = tf.nn.l2_normalize(embeddings, dim=1)\n",
    "norm_ele = tf.nn.l2_normalize(close_to_me, dim=1)\n",
    "\n",
    "cosine_sim = tf.matmul(norm_ele, tf.transpose(norm_emb, [1,0]))\n",
    "\n",
    "closest_ui = tf.argmax(cosine_sim, 1)\n",
    "\n",
    "top_uis = tf.nn.top_k(cosine_sim, k=10)\n"
   ]
  },
  {
   "cell_type": "code",
   "execution_count": 41,
   "metadata": {},
   "outputs": [],
   "source": [
    "res = session.run(top_uis, feed_dict = {close_to_me: vectors[9270:9271,:]})"
   ]
  },
  {
   "cell_type": "code",
   "execution_count": 44,
   "metadata": {},
   "outputs": [
    {
     "name": "stdout",
     "output_type": "stream",
     "text": [
      "[[  534  2724  3304  3500  7638  9270  9876 10988 11979 13456]]\n"
     ]
    }
   ],
   "source": [
    "print(res.indices)"
   ]
  },
  {
   "cell_type": "code",
   "execution_count": null,
   "metadata": {},
   "outputs": [],
   "source": []
  }
 ],
 "metadata": {
  "kernelspec": {
   "display_name": "Python 3",
   "language": "python",
   "name": "python3"
  },
  "language_info": {
   "codemirror_mode": {
    "name": "ipython",
    "version": 3
   },
   "file_extension": ".py",
   "mimetype": "text/x-python",
   "name": "python",
   "nbconvert_exporter": "python",
   "pygments_lexer": "ipython3",
   "version": "3.6.3"
  }
 },
 "nbformat": 4,
 "nbformat_minor": 2
}
