{
 "cells": [
  {
   "cell_type": "code",
   "execution_count": 1,
   "metadata": {},
   "outputs": [],
   "source": [
    "from PIL import Image\n",
    "import os\n",
    "import glob\n",
    "from tqdm import tqdm"
   ]
  },
  {
   "cell_type": "code",
   "execution_count": 45,
   "metadata": {},
   "outputs": [],
   "source": [
    "width = 36\n",
    "height = 64\n",
    "def resize_images():\n",
    "    root_dir = '/run/media/backman/yay/unique_uis/special/'\n",
    "    new_dir = '/run/media/backman/yay/unique_uis/special/'\n",
    "    files = glob.glob(root_dir + '*.jpg')\n",
    "    for file in tqdm(files):\n",
    "#         try:\n",
    "        im = Image.open(file)\n",
    "        im.thumbnail((36,64), Image.ANTIALIAS)\n",
    "        crop = im.crop((0,2,36,58))\n",
    "#             assert im.size == (width,height-6)\n",
    "        crop.save(new_dir+os.path.basename(file),\"JPEG\")\n",
    "#         except IOError:\n",
    "#             pass\n",
    "#         except AssertionError:\n",
    "#             pass"
   ]
  },
  {
   "cell_type": "code",
   "execution_count": 46,
   "metadata": {},
   "outputs": [
    {
     "name": "stderr",
     "output_type": "stream",
     "text": [
      "100%|██████████| 240/240 [00:00<00:00, 3779.23it/s]\n"
     ]
    }
   ],
   "source": [
    "resize_images()"
   ]
  },
  {
   "cell_type": "code",
   "execution_count": 2,
   "metadata": {},
   "outputs": [
    {
     "name": "stderr",
     "output_type": "stream",
     "text": [
      "100%|██████████| 72219/72219 [09:14<00:00, 130.15it/s]\n"
     ]
    }
   ],
   "source": [
    "from PIL import Image\n",
    "src_dir = '/run/media/backman/yay/unique_uis/combined/'\n",
    "dst_dir = '/run/media/backman/yay/unique_uis/resized2/'\n",
    "files = glob.glob(src_dir + '*.jpg')\n",
    "for file in tqdm(files):\n",
    "    try:\n",
    "        file = os.path.basename(file)\n",
    "        im = Image.open(src_dir + file)\n",
    "        width, height = im.size\n",
    "        top = height * 0.0323\n",
    "        bottom = height * 0.9339\n",
    "        crop = im.crop((0,top,width,bottom))\n",
    "        crop = crop.resize((20,32))\n",
    "        crop.save(dst_dir+file,\"JPEG\")\n",
    "    except:\n",
    "        pass"
   ]
  },
  {
   "cell_type": "code",
   "execution_count": null,
   "metadata": {},
   "outputs": [],
   "source": []
  }
 ],
 "metadata": {
  "kernelspec": {
   "display_name": "Python 3",
   "language": "python",
   "name": "python3"
  },
  "language_info": {
   "codemirror_mode": {
    "name": "ipython",
    "version": 3
   },
   "file_extension": ".py",
   "mimetype": "text/x-python",
   "name": "python",
   "nbconvert_exporter": "python",
   "pygments_lexer": "ipython3",
   "version": "3.6.3"
  }
 },
 "nbformat": 4,
 "nbformat_minor": 2
}
