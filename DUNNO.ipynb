{
 "cells": [
  {
   "cell_type": "code",
   "execution_count": 5,
   "metadata": {},
   "outputs": [],
   "source": [
    "%matplotlib inline"
   ]
  },
  {
   "cell_type": "code",
   "execution_count": 46,
   "metadata": {},
   "outputs": [],
   "source": [
    "from gensim.models import word2vec\n",
    "import numpy as np\n",
    "import pickle\n",
    "from keras.utils.data_utils import get_file\n",
    "import json\n",
    "import nltk\n",
    "import os\n",
    "import glob\n",
    "import threading\n",
    "import bcolz\n",
    "from tqdm import tqdm\n",
    "from concurrent.futures import ThreadPoolExecutor\n",
    "from PIL import Image\n",
    "import matplotlib.pyplot as plt\n",
    "from keras.applications.resnet50 import ResNet50, identity_block\n",
    "from keras.layers import Input, Lambda, AveragePooling2D, Flatten, Dense\n",
    "from keras.models import Model, Sequential\n",
    "import keras.backend as K"
   ]
  },
  {
   "cell_type": "code",
   "execution_count": 2,
   "metadata": {},
   "outputs": [
    {
     "ename": "RuntimeError",
     "evalue": "The Session graph is empty.  Add operations to the graph before calling run().",
     "output_type": "error",
     "traceback": [
      "\u001b[0;31m---------------------------------------------------------------------------\u001b[0m",
      "\u001b[0;31mRuntimeError\u001b[0m                              Traceback (most recent call last)",
      "\u001b[0;32m<ipython-input-2-4e67f1de3b37>\u001b[0m in \u001b[0;36m<module>\u001b[0;34m()\u001b[0m\n\u001b[1;32m      3\u001b[0m \u001b[0mbc_path\u001b[0m \u001b[0;34m=\u001b[0m \u001b[0;34m'/run/media/backman/yay/throwaway.bc'\u001b[0m\u001b[0;34m\u001b[0m\u001b[0m\n\u001b[1;32m      4\u001b[0m \u001b[0;34m\u001b[0m\u001b[0m\n\u001b[0;32m----> 5\u001b[0;31m \u001b[0mK\u001b[0m\u001b[0;34m.\u001b[0m\u001b[0mget_session\u001b[0m\u001b[0;34m(\u001b[0m\u001b[0;34m)\u001b[0m\u001b[0;34m.\u001b[0m\u001b[0mclose\u001b[0m\u001b[0;34m(\u001b[0m\u001b[0;34m)\u001b[0m\u001b[0;34m\u001b[0m\u001b[0m\n\u001b[0m\u001b[1;32m      6\u001b[0m \u001b[0mcfg\u001b[0m \u001b[0;34m=\u001b[0m \u001b[0mK\u001b[0m\u001b[0;34m.\u001b[0m\u001b[0mtf\u001b[0m\u001b[0;34m.\u001b[0m\u001b[0mConfigProto\u001b[0m\u001b[0;34m(\u001b[0m\u001b[0;34m)\u001b[0m\u001b[0;34m\u001b[0m\u001b[0m\n\u001b[1;32m      7\u001b[0m \u001b[0mcfg\u001b[0m\u001b[0;34m.\u001b[0m\u001b[0mgpu_options\u001b[0m\u001b[0;34m.\u001b[0m\u001b[0mallow_growth\u001b[0m \u001b[0;34m=\u001b[0m \u001b[0;32mTrue\u001b[0m\u001b[0;34m\u001b[0m\u001b[0m\n",
      "\u001b[0;32m/usr/lib/python3.6/site-packages/keras/backend/tensorflow_backend.py\u001b[0m in \u001b[0;36mget_session\u001b[0;34m()\u001b[0m\n\u001b[1;32m    178\u001b[0m             \u001b[0;31m# not already marked as initialized.\u001b[0m\u001b[0;34m\u001b[0m\u001b[0;34m\u001b[0m\u001b[0m\n\u001b[1;32m    179\u001b[0m             is_initialized = session.run(\n\u001b[0;32m--> 180\u001b[0;31m                 [tf.is_variable_initialized(v) for v in candidate_vars])\n\u001b[0m\u001b[1;32m    181\u001b[0m             \u001b[0muninitialized_vars\u001b[0m \u001b[0;34m=\u001b[0m \u001b[0;34m[\u001b[0m\u001b[0;34m]\u001b[0m\u001b[0;34m\u001b[0m\u001b[0m\n\u001b[1;32m    182\u001b[0m             \u001b[0;32mfor\u001b[0m \u001b[0mflag\u001b[0m\u001b[0;34m,\u001b[0m \u001b[0mv\u001b[0m \u001b[0;32min\u001b[0m \u001b[0mzip\u001b[0m\u001b[0;34m(\u001b[0m\u001b[0mis_initialized\u001b[0m\u001b[0;34m,\u001b[0m \u001b[0mcandidate_vars\u001b[0m\u001b[0;34m)\u001b[0m\u001b[0;34m:\u001b[0m\u001b[0;34m\u001b[0m\u001b[0m\n",
      "\u001b[0;32m/usr/lib/python3.6/site-packages/tensorflow/python/client/session.py\u001b[0m in \u001b[0;36mrun\u001b[0;34m(self, fetches, feed_dict, options, run_metadata)\u001b[0m\n\u001b[1;32m    887\u001b[0m     \u001b[0;32mtry\u001b[0m\u001b[0;34m:\u001b[0m\u001b[0;34m\u001b[0m\u001b[0m\n\u001b[1;32m    888\u001b[0m       result = self._run(None, fetches, feed_dict, options_ptr,\n\u001b[0;32m--> 889\u001b[0;31m                          run_metadata_ptr)\n\u001b[0m\u001b[1;32m    890\u001b[0m       \u001b[0;32mif\u001b[0m \u001b[0mrun_metadata\u001b[0m\u001b[0;34m:\u001b[0m\u001b[0;34m\u001b[0m\u001b[0m\n\u001b[1;32m    891\u001b[0m         \u001b[0mproto_data\u001b[0m \u001b[0;34m=\u001b[0m \u001b[0mtf_session\u001b[0m\u001b[0;34m.\u001b[0m\u001b[0mTF_GetBuffer\u001b[0m\u001b[0;34m(\u001b[0m\u001b[0mrun_metadata_ptr\u001b[0m\u001b[0;34m)\u001b[0m\u001b[0;34m\u001b[0m\u001b[0m\n",
      "\u001b[0;32m/usr/lib/python3.6/site-packages/tensorflow/python/client/session.py\u001b[0m in \u001b[0;36m_run\u001b[0;34m(self, handle, fetches, feed_dict, options, run_metadata)\u001b[0m\n\u001b[1;32m   1047\u001b[0m       \u001b[0;32mraise\u001b[0m \u001b[0mRuntimeError\u001b[0m\u001b[0;34m(\u001b[0m\u001b[0;34m'Attempted to use a closed Session.'\u001b[0m\u001b[0;34m)\u001b[0m\u001b[0;34m\u001b[0m\u001b[0m\n\u001b[1;32m   1048\u001b[0m     \u001b[0;32mif\u001b[0m \u001b[0mself\u001b[0m\u001b[0;34m.\u001b[0m\u001b[0mgraph\u001b[0m\u001b[0;34m.\u001b[0m\u001b[0mversion\u001b[0m \u001b[0;34m==\u001b[0m \u001b[0;36m0\u001b[0m\u001b[0;34m:\u001b[0m\u001b[0;34m\u001b[0m\u001b[0m\n\u001b[0;32m-> 1049\u001b[0;31m       raise RuntimeError('The Session graph is empty.  Add operations to the '\n\u001b[0m\u001b[1;32m   1050\u001b[0m                          'graph before calling run().')\n\u001b[1;32m   1051\u001b[0m \u001b[0;34m\u001b[0m\u001b[0m\n",
      "\u001b[0;31mRuntimeError\u001b[0m: The Session graph is empty.  Add operations to the graph before calling run()."
     ]
    }
   ],
   "source": [
    "w2v_path = '/run/media/backman/yay/'\n",
    "path = '/run/media/backman/yay/'\n",
    "bc_path = '/run/media/backman/yay/throwaway.bc'\n",
    "\n",
    "K.get_session().close()\n",
    "cfg = K.tf.ConfigProto()\n",
    "cfg.gpu_options.allow_growth = True\n",
    "K.set_session(K.tf.Session(config=cfg))"
   ]
  },
  {
   "cell_type": "code",
   "execution_count": 4,
   "metadata": {},
   "outputs": [],
   "source": [
    "model = word2vec.KeyedVectors.load_word2vec_format(w2v_path+'GoogleNews-vectors-negative300.bin/data', binary=True)"
   ]
  },
  {
   "cell_type": "code",
   "execution_count": 5,
   "metadata": {},
   "outputs": [],
   "source": [
    "model.save_word2vec_format(w2v_path+'google.txt', binary=False)"
   ]
  },
  {
   "cell_type": "code",
   "execution_count": 6,
   "metadata": {},
   "outputs": [],
   "source": [
    "model = None"
   ]
  },
  {
   "cell_type": "code",
   "execution_count": 7,
   "metadata": {},
   "outputs": [],
   "source": [
    "file = open(w2v_path+'google.txt')"
   ]
  },
  {
   "cell_type": "code",
   "execution_count": 8,
   "metadata": {},
   "outputs": [],
   "source": [
    "lines = file.readlines()"
   ]
  },
  {
   "cell_type": "code",
   "execution_count": 9,
   "metadata": {},
   "outputs": [],
   "source": [
    "def parse_w2v(l):\n",
    "    i = l.index(' ')\n",
    "    return l[:i], np.fromstring(l[i+1: -2], 'float32', sep=' ')"
   ]
  },
  {
   "cell_type": "code",
   "execution_count": 10,
   "metadata": {},
   "outputs": [],
   "source": [
    "w2v_list = list(map(parse_w2v, lines[1:]))"
   ]
  },
  {
   "cell_type": "code",
   "execution_count": 11,
   "metadata": {},
   "outputs": [],
   "source": [
    "lines = None\n",
    "file.close()"
   ]
  },
  {
   "cell_type": "code",
   "execution_count": 12,
   "metadata": {},
   "outputs": [],
   "source": [
    "pickle.dump(w2v_list, open(path+'w2v1.pkl','wb'))"
   ]
  },
  {
   "cell_type": "code",
   "execution_count": 13,
   "metadata": {},
   "outputs": [],
   "source": [
    "w2v_list = None"
   ]
  },
  {
   "cell_type": "code",
   "execution_count": 17,
   "metadata": {},
   "outputs": [],
   "source": [
    "w2v_list = pickle.load(open(path+'w2v1.pkl','rb'))"
   ]
  },
  {
   "cell_type": "code",
   "execution_count": 18,
   "metadata": {},
   "outputs": [],
   "source": [
    "w2v_dict = dict(w2v_list)\n",
    "words,vectors = zip(*w2v_list)"
   ]
  },
  {
   "cell_type": "code",
   "execution_count": 19,
   "metadata": {},
   "outputs": [
    {
     "data": {
      "text/plain": [
       "array([[ 1.        ,  0.23153828],\n",
       "       [ 0.23153828,  1.        ]])"
      ]
     },
     "execution_count": 19,
     "metadata": {},
     "output_type": "execute_result"
    }
   ],
   "source": [
    "np.corrcoef(w2v_dict['man'], w2v_dict['king'])"
   ]
  },
  {
   "cell_type": "code",
   "execution_count": 20,
   "metadata": {},
   "outputs": [],
   "source": [
    "lc_w2v = {w.lower(): w2v_dict[w] for w in reversed(words)}"
   ]
  },
  {
   "cell_type": "code",
   "execution_count": 13,
   "metadata": {},
   "outputs": [
    {
     "data": {
      "text/plain": [
       "1000"
      ]
     },
     "execution_count": 13,
     "metadata": {},
     "output_type": "execute_result"
    }
   ],
   "source": [
    "fpath = get_file('imagenet_class_index.json', \n",
    "                 'http://www.platform.ai/models/imagenet_class_index.json', \n",
    "                 cache_subdir='models')\n",
    "class_dict = json.load(open(fpath))\n",
    "nclass = len(class_dict); nclass"
   ]
  },
  {
   "cell_type": "code",
   "execution_count": 9,
   "metadata": {},
   "outputs": [
    {
     "name": "stdout",
     "output_type": "stream",
     "text": [
      "showing info https://raw.githubusercontent.com/nltk/nltk_data/gh-pages/index.xml\n"
     ]
    },
    {
     "data": {
      "text/plain": [
       "True"
      ]
     },
     "execution_count": 9,
     "metadata": {},
     "output_type": "execute_result"
    }
   ],
   "source": [
    " nltk.download()"
   ]
  },
  {
   "cell_type": "code",
   "execution_count": 14,
   "metadata": {},
   "outputs": [],
   "source": [
    "wordnet_nouns = list(nltk.corpus.wordnet.all_synsets(pos='n'))\n",
    "with open(os.path.join(w2v_path, 'classids.txt'), 'w') as f:\n",
    "    f.writelines(['n{:08d} {}\\n'.format(n.offset(), n.name().split('.')[0]) for n in wordnet_nouns])"
   ]
  },
  {
   "cell_type": "code",
   "execution_count": 15,
   "metadata": {},
   "outputs": [
    {
     "data": {
      "text/plain": [
       "82115"
      ]
     },
     "execution_count": 15,
     "metadata": {},
     "output_type": "execute_result"
    }
   ],
   "source": [
    "classids_1k = dict(class_dict.values())\n",
    "classid_lines = open(path+'/classids.txt', 'r').readlines()\n",
    "classids = dict(l.strip().split(' ') for l in classid_lines)\n",
    "len(classids)"
   ]
  },
  {
   "cell_type": "code",
   "execution_count": 21,
   "metadata": {},
   "outputs": [
    {
     "data": {
      "text/plain": [
       "51640"
      ]
     },
     "execution_count": 21,
     "metadata": {},
     "output_type": "execute_result"
    }
   ],
   "source": [
    "syn_wv = [(k, lc_w2v[v.lower()]) for k,v in classids.items()\n",
    "          if v.lower() in lc_w2v]\n",
    "syn_wv_1k = [(k, lc_w2v[v.lower()]) for k,v in classids_1k.items()\n",
    "          if v.lower() in lc_w2v]\n",
    "syn2wv = dict(syn_wv); len(syn2wv)"
   ]
  },
  {
   "cell_type": "code",
   "execution_count": 48,
   "metadata": {},
   "outputs": [
    {
     "data": {
      "text/plain": [
       "300"
      ]
     },
     "execution_count": 48,
     "metadata": {},
     "output_type": "execute_result"
    }
   ],
   "source": [
    "ndim = len(list(syn2wv.values())[0]); ndim"
   ]
  },
  {
   "cell_type": "code",
   "execution_count": 14,
   "metadata": {},
   "outputs": [],
   "source": [
    "fnames = list(glob.iglob(path + 'imagenet-sample-train/train/*/*.JPEG'))\n",
    "pickle.dump(fnames, open(path+'fnames.pkl','wb'))"
   ]
  },
  {
   "cell_type": "code",
   "execution_count": 8,
   "metadata": {},
   "outputs": [],
   "source": [
    "fnames = pickle.load(open(path+'fnames.pkl','rb'))"
   ]
  },
  {
   "cell_type": "code",
   "execution_count": 16,
   "metadata": {},
   "outputs": [],
   "source": [
    "fnames = np.random.permutation(fnames)"
   ]
  },
  {
   "cell_type": "code",
   "execution_count": 30,
   "metadata": {},
   "outputs": [],
   "source": [
    "new_s = 224\n",
    "n = len(fnames)"
   ]
  },
  {
   "cell_type": "code",
   "execution_count": 18,
   "metadata": {},
   "outputs": [],
   "source": [
    "def _resize(img):\n",
    "    shortest = min(img.width,img.height)\n",
    "    resized = np.round(np.multiply(new_s/shortest, img.size)).astype(int)\n",
    "    return img.resize(resized, Image.BILINEAR)"
   ]
  },
  {
   "cell_type": "code",
   "execution_count": 19,
   "metadata": {},
   "outputs": [],
   "source": [
    "def resize_img(i):\n",
    "    img = Image.open(fnames[i])\n",
    "    s = np.array(img).shape\n",
    "    if len(s)!=3 or s[2]!=3: return\n",
    "    return _resize(img)"
   ]
  },
  {
   "cell_type": "code",
   "execution_count": 20,
   "metadata": {},
   "outputs": [],
   "source": [
    "def resize_img_bw(i):\n",
    "    return _resize(Image.open(fnames[i]).convert('L'))"
   ]
  },
  {
   "cell_type": "code",
   "execution_count": 21,
   "metadata": {},
   "outputs": [],
   "source": [
    "tl = threading.local()"
   ]
  },
  {
   "cell_type": "code",
   "execution_count": 22,
   "metadata": {},
   "outputs": [],
   "source": [
    "tl.place = np.zeros((new_s, new_s, 3), 'uint8')"
   ]
  },
  {
   "cell_type": "code",
   "execution_count": 23,
   "metadata": {},
   "outputs": [],
   "source": [
    "arr = bcolz.carray(np.empty((0, new_s, new_s, 3), 'float32'), chunklen=32, mode='w', rootdir=bc_path)"
   ]
  },
  {
   "cell_type": "code",
   "execution_count": 24,
   "metadata": {},
   "outputs": [],
   "source": [
    "def get_slice(p, n): return slice((p-n+1)//2, p-(p-n)//2)\n",
    "\n",
    "def app_img(r):\n",
    "    tl.place[:] = (np.array(r)[get_slice(r.size[1], new_s), get_slice(r.size[0], new_s)] if r else 0.)\n",
    "    arr.append(tl.place)"
   ]
  },
  {
   "cell_type": "code",
   "execution_count": 33,
   "metadata": {},
   "outputs": [
    {
     "name": "stderr",
     "output_type": "stream",
     "text": [
      "100%|██████████| 4/4 [00:41<00:00, 10.46s/it]\n"
     ]
    }
   ],
   "source": [
    "step=6400\n",
    "for i in tqdm(range(0, n, step)):\n",
    "    with ThreadPoolExecutor(max_workers=16) as execr:\n",
    "        res = execr.map(resize_img, range(i, min(i+step, n)))\n",
    "        for r in res: app_img(r)\n",
    "    arr.flush()"
   ]
  },
  {
   "cell_type": "code",
   "execution_count": 3,
   "metadata": {},
   "outputs": [],
   "source": [
    "arr = bcolz.open('/run/media/backman/yay/imagenet/trn_resized_288.bc')"
   ]
  },
  {
   "cell_type": "code",
   "execution_count": 6,
   "metadata": {},
   "outputs": [
    {
     "data": {
      "text/plain": [
       "<matplotlib.image.AxesImage at 0x7f24ff446c18>"
      ]
     },
     "execution_count": 6,
     "metadata": {},
     "output_type": "execute_result"
    },
    {
     "data": {
      "image/png": "[encoded data removed]",
      "text/plain": [
       "<matplotlib.figure.Figure at 0x7f250a5c48d0>"
      ]
     },
     "metadata": {},
     "output_type": "display_data"
    }
   ],
   "source": [
    "plt.imshow(arr[-2].astype('uint8'))"
   ]
  },
  {
   "cell_type": "code",
   "execution_count": 9,
   "metadata": {},
   "outputs": [
    {
     "data": {
      "text/plain": [
       "['n03481172', 'n03481172', 'n03481172', 'n03481172', 'n03481172']"
      ]
     },
     "execution_count": 9,
     "metadata": {},
     "output_type": "execute_result"
    }
   ],
   "source": [
    "def get_synset(f): return f[f.rfind('/')+1:f.find('_')]\n",
    "\n",
    "labels = list(map(get_synset, fnames))\n",
    "labels[:5]"
   ]
  },
  {
   "cell_type": "code",
   "execution_count": 22,
   "metadata": {},
   "outputs": [
    {
     "data": {
      "text/plain": [
       "(19439, 300)"
      ]
     },
     "execution_count": 22,
     "metadata": {},
     "output_type": "execute_result"
    }
   ],
   "source": [
    "vecs = np.stack([syn2wv[l] for l in labels]); vecs.shape"
   ]
  },
  {
   "cell_type": "code",
   "execution_count": 23,
   "metadata": {},
   "outputs": [],
   "source": [
    "rn_mean = np.array([123.68, 116.779, 103.939], dtype=np.float32).reshape((1,1,3))\n",
    "inp = Input((288,288,3))\n",
    "preproc = Lambda(lambda x: (x - rn_mean)[:, :, :, ::-1])(inp)\n",
    "model = ResNet50(include_top=False, input_tensor=preproc)"
   ]
  },
  {
   "cell_type": "code",
   "execution_count": 24,
   "metadata": {},
   "outputs": [
    {
     "data": {
      "text/plain": [
       "(None, 9, 9, 2048)"
      ]
     },
     "execution_count": 24,
     "metadata": {},
     "output_type": "execute_result"
    }
   ],
   "source": [
    "mid_start = model.get_layer('res5b_branch2a')\n",
    "mid_out = model.layers[model.layers.index(mid_start)-1]\n",
    "shp=mid_out.output_shape; shp"
   ]
  },
  {
   "cell_type": "code",
   "execution_count": 25,
   "metadata": {},
   "outputs": [],
   "source": [
    "rn_top = Model(model.input, mid_out.output)\n",
    "rn_top_avg = Sequential([rn_top, AveragePooling2D((7,7))])"
   ]
  },
  {
   "cell_type": "code",
   "execution_count": 26,
   "metadata": {},
   "outputs": [
    {
     "data": {
      "text/plain": [
       "(None, 1, 1, 2048)"
      ]
     },
     "execution_count": 26,
     "metadata": {},
     "output_type": "execute_result"
    }
   ],
   "source": [
    "shp=rn_top_avg.output_shape; shp"
   ]
  },
  {
   "cell_type": "code",
   "execution_count": 27,
   "metadata": {},
   "outputs": [],
   "source": [
    "features_mid = bcolz.carray(np.empty((0,)+shp[1:]), rootdir=path+'features_mid_1c_r.bc',\n",
    "                           chunklen=16, mode='w')"
   ]
  },
  {
   "cell_type": "code",
   "execution_count": 28,
   "metadata": {},
   "outputs": [],
   "source": [
    "def gen_features_mid(dirn):\n",
    "    gen = (arr[i:min(i+128,n)] for i in range(0, len(arr), 128))\n",
    "    for i,batch in tqdm(enumerate(gen)):\n",
    "        features_mid.append(rn_top_avg.predict(batch[:,:,::dirn]))\n",
    "        if (i%100==99): features_mid.flush()\n",
    "    features_mid.flush()"
   ]
  },
  {
   "cell_type": "code",
   "execution_count": 31,
   "metadata": {},
   "outputs": [
    {
     "name": "stderr",
     "output_type": "stream",
     "text": [
      "\n",
      "0it [00:00, ?it/s]\u001b[A\n",
      "1it [00:03,  3.42s/it]\u001b[A\n",
      "2it [00:05,  2.62s/it]\u001b[A\n",
      "3it [00:07,  2.37s/it]\u001b[A\n",
      "4it [00:08,  2.24s/it]\u001b[A\n",
      "5it [00:10,  2.15s/it]\u001b[A\n",
      "6it [00:12,  2.10s/it]\u001b[A\n",
      "7it [00:14,  2.07s/it]\u001b[A\n",
      "8it [00:16,  2.04s/it]\u001b[A\n",
      "9it [00:18,  2.02s/it]\u001b[A\n",
      "10it [00:20,  2.00s/it]\u001b[A\n",
      "11it [00:21,  1.99s/it]\u001b[A\n",
      "12it [00:23,  1.97s/it]\u001b[A\n",
      "13it [00:25,  1.96s/it]\u001b[A\n",
      "14it [00:27,  1.95s/it]\u001b[A\n",
      "15it [00:29,  1.95s/it]\u001b[A\n",
      "16it [00:30,  1.94s/it]\u001b[A\n",
      "17it [00:32,  1.93s/it]\u001b[A\n",
      "18it [00:34,  1.93s/it]\u001b[A\n",
      "19it [00:36,  1.92s/it]\u001b[A\n",
      "20it [00:38,  1.92s/it]\u001b[A\n",
      "21it [00:40,  1.91s/it]\u001b[A\n",
      "22it [00:42,  1.91s/it]\u001b[A\n",
      "23it [00:43,  1.91s/it]\u001b[A\n",
      "24it [00:45,  1.91s/it]\u001b[A\n",
      "25it [00:47,  1.90s/it]\u001b[A\n",
      "26it [00:49,  1.90s/it]\u001b[A\n",
      "27it [00:51,  1.90s/it]\u001b[A\n",
      "28it [00:53,  1.89s/it]\u001b[A\n",
      "29it [00:54,  1.89s/it]\u001b[A\n",
      "30it [00:56,  1.89s/it]\u001b[A\n",
      "31it [00:58,  1.89s/it]\u001b[A\n",
      "32it [01:00,  1.89s/it]\u001b[A\n",
      "33it [01:02,  1.89s/it]\u001b[A\n",
      "34it [01:04,  1.88s/it]\u001b[A\n",
      "35it [01:05,  1.88s/it]\u001b[A\n",
      "36it [01:07,  1.88s/it]\u001b[A\n",
      "37it [01:09,  1.88s/it]\u001b[A\n",
      "38it [01:11,  1.88s/it]\u001b[A\n",
      "39it [01:13,  1.88s/it]\u001b[A\n",
      "40it [01:15,  1.88s/it]\u001b[A\n",
      "41it [01:17,  1.88s/it]\u001b[A\n",
      "42it [01:18,  1.88s/it]\u001b[A\n",
      "43it [01:20,  1.88s/it]\u001b[A\n",
      "44it [01:22,  1.88s/it]\u001b[A\n",
      "45it [01:24,  1.88s/it]\u001b[A\n",
      "46it [01:26,  1.88s/it]\u001b[A\n",
      "47it [01:28,  1.88s/it]\u001b[A\n",
      "48it [01:30,  1.88s/it]\u001b[A\n",
      "49it [01:31,  1.87s/it]\u001b[A\n",
      "50it [01:33,  1.87s/it]\u001b[A\n",
      "51it [01:35,  1.87s/it]\u001b[A\n",
      "52it [01:37,  1.87s/it]\u001b[A\n",
      "53it [01:39,  1.87s/it]\u001b[A\n",
      "54it [01:40,  1.87s/it]\u001b[A\n",
      "55it [01:42,  1.87s/it]\u001b[A\n",
      "56it [01:44,  1.87s/it]\u001b[A\n",
      "57it [01:46,  1.87s/it]\u001b[A\n",
      "58it [01:48,  1.87s/it]\u001b[A\n",
      "59it [01:50,  1.87s/it]\u001b[A\n",
      "60it [01:52,  1.87s/it]\u001b[A\n",
      "61it [01:53,  1.87s/it]\u001b[A\n",
      "62it [01:55,  1.87s/it]\u001b[A\n",
      "63it [01:57,  1.87s/it]\u001b[A\n",
      "64it [01:59,  1.87s/it]\u001b[A\n",
      "65it [02:01,  1.87s/it]\u001b[A\n",
      "66it [02:03,  1.86s/it]\u001b[A\n",
      "67it [02:04,  1.86s/it]\u001b[A\n",
      "68it [02:06,  1.86s/it]\u001b[A\n",
      "69it [02:08,  1.86s/it]\u001b[A\n",
      "70it [02:10,  1.86s/it]\u001b[A\n",
      "71it [02:12,  1.86s/it]\u001b[A\n",
      "72it [02:14,  1.86s/it]\u001b[A\n",
      "73it [02:15,  1.86s/it]\u001b[A\n",
      "74it [02:17,  1.86s/it]\u001b[A\n",
      "75it [02:19,  1.86s/it]\u001b[A\n",
      "76it [02:21,  1.86s/it]\u001b[A\n",
      "77it [02:23,  1.86s/it]\u001b[A\n",
      "78it [02:25,  1.86s/it]\u001b[A\n",
      "79it [02:27,  1.86s/it]\u001b[A\n",
      "80it [02:29,  1.86s/it]\u001b[A\n",
      "81it [02:30,  1.86s/it]\u001b[A\n",
      "82it [02:32,  1.86s/it]\u001b[A\n",
      "83it [02:34,  1.86s/it]\u001b[A\n",
      "84it [02:36,  1.86s/it]\u001b[A\n",
      "85it [02:38,  1.86s/it]\u001b[A\n",
      "86it [02:40,  1.86s/it]\u001b[A\n",
      "87it [02:42,  1.86s/it]\u001b[A\n",
      "88it [02:43,  1.86s/it]\u001b[A\n",
      "89it [02:45,  1.86s/it]\u001b[A\n",
      "90it [02:47,  1.86s/it]\u001b[A\n",
      "91it [02:49,  1.86s/it]\u001b[A\n",
      "92it [02:51,  1.86s/it]\u001b[A\n",
      "93it [02:53,  1.86s/it]\u001b[A\n",
      "94it [02:54,  1.86s/it]\u001b[A\n",
      "95it [02:56,  1.86s/it]\u001b[A\n",
      "96it [02:58,  1.86s/it]\u001b[A\n",
      "97it [03:00,  1.86s/it]\u001b[A\n",
      "98it [03:02,  1.86s/it]\u001b[A\n",
      "99it [03:04,  1.86s/it]\u001b[A\n",
      "100it [03:05,  1.86s/it]\u001b[A\n",
      "101it [03:07,  1.86s/it]\u001b[A\n",
      "102it [03:09,  1.86s/it]\u001b[A\n",
      "103it [03:11,  1.86s/it]\u001b[A\n",
      "104it [03:13,  1.86s/it]\u001b[A\n",
      "105it [03:15,  1.86s/it]\u001b[A\n",
      "106it [03:17,  1.86s/it]\u001b[A\n",
      "107it [03:19,  1.86s/it]\u001b[A\n",
      "108it [03:20,  1.86s/it]\u001b[A\n",
      "109it [03:22,  1.86s/it]\u001b[A\n",
      "110it [03:24,  1.86s/it]\u001b[A\n",
      "111it [03:26,  1.86s/it]\u001b[A\n",
      "112it [03:28,  1.86s/it]\u001b[A\n",
      "113it [03:30,  1.86s/it]\u001b[A\n",
      "114it [03:32,  1.86s/it]\u001b[A\n",
      "115it [03:34,  1.86s/it]\u001b[A\n",
      "116it [03:35,  1.86s/it]\u001b[A\n",
      "117it [03:37,  1.86s/it]\u001b[A\n",
      "118it [03:39,  1.86s/it]\u001b[A\n",
      "119it [03:41,  1.86s/it]\u001b[A\n",
      "120it [03:43,  1.86s/it]\u001b[A\n",
      "121it [03:44,  1.86s/it]\u001b[A\n",
      "122it [03:46,  1.86s/it]\u001b[A\n",
      "123it [03:48,  1.86s/it]\u001b[A\n",
      "124it [03:50,  1.86s/it]\u001b[A\n",
      "125it [03:52,  1.86s/it]\u001b[A\n",
      "126it [03:54,  1.86s/it]\u001b[A\n",
      "127it [03:56,  1.86s/it]\u001b[A\n",
      "128it [03:57,  1.86s/it]\u001b[A\n",
      "129it [03:59,  1.86s/it]\u001b[A\n",
      "130it [04:01,  1.86s/it]\u001b[A\n",
      "131it [04:03,  1.86s/it]\u001b[A\n",
      "132it [04:05,  1.86s/it]\u001b[A\n",
      "133it [04:07,  1.86s/it]\u001b[A\n",
      "134it [04:08,  1.86s/it]\u001b[A\n",
      "135it [04:10,  1.86s/it]\u001b[A\n",
      "136it [04:12,  1.86s/it]\u001b[A\n",
      "137it [04:14,  1.86s/it]\u001b[A\n",
      "138it [04:16,  1.86s/it]\u001b[A\n",
      "139it [04:18,  1.86s/it]\u001b[A\n",
      "140it [04:20,  1.86s/it]\u001b[A\n",
      "141it [04:21,  1.86s/it]\u001b[A\n",
      "142it [04:23,  1.86s/it]\u001b[A\n",
      "143it [04:25,  1.86s/it]\u001b[A\n",
      "144it [04:27,  1.86s/it]\u001b[A\n",
      "145it [04:29,  1.86s/it]\u001b[A\n",
      "146it [04:31,  1.86s/it]\u001b[A\n",
      "147it [04:32,  1.86s/it]\u001b[A\n",
      "148it [04:34,  1.86s/it]\u001b[A\n",
      "149it [04:36,  1.86s/it]\u001b[A\n",
      "150it [04:38,  1.86s/it]\u001b[A\n",
      "151it [04:40,  1.86s/it]\u001b[A\n",
      "152it [04:42,  1.86s/it]\u001b[A\n",
      "\u001b[A"
     ]
    }
   ],
   "source": [
    "gen_features_mid(1)"
   ]
  },
  {
   "cell_type": "code",
   "execution_count": 32,
   "metadata": {},
   "outputs": [
    {
     "name": "stderr",
     "output_type": "stream",
     "text": [
      "\n",
      "0it [00:00, ?it/s]\u001b[A\n",
      "1it [00:01,  2.00s/it]\u001b[A\n",
      "2it [00:03,  1.99s/it]\u001b[A\n",
      "3it [00:05,  1.99s/it]\u001b[A\n",
      "4it [00:07,  1.99s/it]\u001b[A\n",
      "5it [00:09,  1.99s/it]\u001b[A\n",
      "6it [00:11,  1.99s/it]\u001b[A\n",
      "7it [00:13,  1.99s/it]\u001b[A\n",
      "8it [00:15,  2.00s/it]\u001b[A\n",
      "9it [00:17,  2.00s/it]\u001b[A\n",
      "10it [00:19,  1.99s/it]\u001b[A\n",
      "11it [00:21,  1.99s/it]\u001b[A\n",
      "12it [00:23,  1.99s/it]\u001b[A\n",
      "13it [00:25,  2.00s/it]\u001b[A\n",
      "14it [00:27,  2.00s/it]\u001b[A\n",
      "15it [00:29,  2.00s/it]\u001b[A\n",
      "16it [00:31,  1.99s/it]\u001b[A\n",
      "17it [00:33,  1.99s/it]\u001b[A\n",
      "18it [00:35,  1.99s/it]\u001b[A\n",
      "19it [00:37,  1.99s/it]\u001b[A\n",
      "20it [00:39,  1.99s/it]\u001b[A\n",
      "21it [00:41,  1.99s/it]\u001b[A\n",
      "22it [00:43,  1.99s/it]\u001b[A\n",
      "23it [00:45,  1.99s/it]\u001b[A\n",
      "24it [00:47,  1.98s/it]\u001b[A\n",
      "25it [00:49,  1.98s/it]\u001b[A\n",
      "26it [00:51,  1.98s/it]\u001b[A\n",
      "27it [00:53,  1.98s/it]\u001b[A\n",
      "28it [00:55,  1.98s/it]\u001b[A\n",
      "29it [00:57,  1.98s/it]\u001b[A\n",
      "30it [00:59,  1.97s/it]\u001b[A\n",
      "31it [01:01,  1.98s/it]\u001b[A\n",
      "32it [01:03,  1.98s/it]\u001b[A\n",
      "33it [01:05,  1.98s/it]\u001b[A\n",
      "34it [01:07,  1.98s/it]\u001b[A\n",
      "35it [01:09,  1.98s/it]\u001b[A\n",
      "36it [01:11,  1.98s/it]\u001b[A\n",
      "37it [01:13,  1.98s/it]\u001b[A\n",
      "38it [01:15,  1.98s/it]\u001b[A\n",
      "39it [01:17,  1.98s/it]\u001b[A\n",
      "40it [01:19,  1.98s/it]\u001b[A\n",
      "41it [01:20,  1.97s/it]\u001b[A\n",
      "42it [01:22,  1.97s/it]\u001b[A\n",
      "43it [01:24,  1.97s/it]\u001b[A\n",
      "44it [01:26,  1.97s/it]\u001b[A\n",
      "45it [01:28,  1.97s/it]\u001b[A\n",
      "46it [01:30,  1.97s/it]\u001b[A\n",
      "47it [01:32,  1.97s/it]\u001b[A\n",
      "48it [01:34,  1.97s/it]\u001b[A\n",
      "49it [01:36,  1.97s/it]\u001b[A\n",
      "50it [01:38,  1.97s/it]\u001b[A\n",
      "51it [01:40,  1.97s/it]\u001b[A\n",
      "52it [01:42,  1.97s/it]\u001b[A\n",
      "53it [01:44,  1.96s/it]\u001b[A\n",
      "54it [01:46,  1.96s/it]\u001b[A\n",
      "55it [01:47,  1.96s/it]\u001b[A\n",
      "56it [01:49,  1.96s/it]\u001b[A\n",
      "57it [01:51,  1.96s/it]\u001b[A\n",
      "58it [01:53,  1.96s/it]\u001b[A\n",
      "59it [01:55,  1.96s/it]\u001b[A\n",
      "60it [01:57,  1.96s/it]\u001b[A\n",
      "61it [01:59,  1.96s/it]\u001b[A\n",
      "62it [02:01,  1.96s/it]\u001b[A\n",
      "63it [02:03,  1.96s/it]\u001b[A\n",
      "64it [02:05,  1.95s/it]\u001b[A\n",
      "65it [02:07,  1.95s/it]\u001b[A\n",
      "66it [02:08,  1.95s/it]\u001b[A\n",
      "67it [02:10,  1.95s/it]\u001b[A\n",
      "68it [02:12,  1.95s/it]\u001b[A\n",
      "69it [02:14,  1.95s/it]\u001b[A\n",
      "70it [02:16,  1.95s/it]\u001b[A\n",
      "71it [02:18,  1.95s/it]\u001b[A\n",
      "72it [02:20,  1.95s/it]\u001b[A\n",
      "73it [02:22,  1.95s/it]\u001b[A\n",
      "74it [02:24,  1.95s/it]\u001b[A\n",
      "75it [02:26,  1.95s/it]\u001b[A\n",
      "76it [02:28,  1.95s/it]\u001b[A\n",
      "77it [02:29,  1.95s/it]\u001b[A\n",
      "78it [02:31,  1.95s/it]\u001b[A\n",
      "79it [02:33,  1.95s/it]\u001b[A\n",
      "80it [02:35,  1.94s/it]\u001b[A\n",
      "81it [02:37,  1.94s/it]\u001b[A\n",
      "82it [02:39,  1.94s/it]\u001b[A\n",
      "83it [02:40,  1.94s/it]\u001b[A\n",
      "84it [02:42,  1.94s/it]\u001b[A\n",
      "85it [02:44,  1.94s/it]\u001b[A\n",
      "86it [02:46,  1.93s/it]\u001b[A\n",
      "87it [02:48,  1.93s/it]\u001b[A\n",
      "88it [02:49,  1.93s/it]\u001b[A\n",
      "89it [02:51,  1.93s/it]\u001b[A\n",
      "90it [02:53,  1.93s/it]\u001b[A\n",
      "91it [02:55,  1.93s/it]\u001b[A\n",
      "92it [02:57,  1.93s/it]\u001b[A\n",
      "93it [02:58,  1.92s/it]\u001b[A\n",
      "94it [03:00,  1.92s/it]\u001b[A\n",
      "95it [03:02,  1.92s/it]\u001b[A\n",
      "96it [03:04,  1.92s/it]\u001b[A\n",
      "97it [03:06,  1.92s/it]\u001b[A\n",
      "98it [03:07,  1.92s/it]\u001b[A\n",
      "99it [03:09,  1.92s/it]\u001b[A\n",
      "100it [03:11,  1.92s/it]\u001b[A\n",
      "101it [03:13,  1.91s/it]\u001b[A\n",
      "102it [03:15,  1.91s/it]\u001b[A\n",
      "103it [03:16,  1.91s/it]\u001b[A\n",
      "104it [03:18,  1.91s/it]\u001b[A\n",
      "105it [03:20,  1.91s/it]\u001b[A\n",
      "106it [03:22,  1.91s/it]\u001b[A\n",
      "107it [03:24,  1.91s/it]\u001b[A\n",
      "108it [03:25,  1.91s/it]\u001b[A\n",
      "109it [03:27,  1.91s/it]\u001b[A\n",
      "110it [03:29,  1.91s/it]\u001b[A\n",
      "111it [03:31,  1.90s/it]\u001b[A\n",
      "112it [03:33,  1.90s/it]\u001b[A\n",
      "113it [03:34,  1.90s/it]\u001b[A\n",
      "114it [03:36,  1.90s/it]\u001b[A\n",
      "115it [03:38,  1.90s/it]\u001b[A\n",
      "116it [03:40,  1.90s/it]\u001b[A\n",
      "117it [03:41,  1.90s/it]\u001b[A\n",
      "118it [03:43,  1.90s/it]\u001b[A\n",
      "119it [03:45,  1.90s/it]\u001b[A\n",
      "120it [03:47,  1.90s/it]\u001b[A\n",
      "121it [03:49,  1.89s/it]\u001b[A\n",
      "122it [03:51,  1.89s/it]\u001b[A\n",
      "123it [03:52,  1.89s/it]\u001b[A\n",
      "124it [03:54,  1.89s/it]\u001b[A\n",
      "125it [03:56,  1.89s/it]\u001b[A\n",
      "126it [03:58,  1.89s/it]\u001b[A\n",
      "127it [03:59,  1.89s/it]\u001b[A\n",
      "128it [04:01,  1.89s/it]\u001b[A\n",
      "129it [04:03,  1.89s/it]\u001b[A\n",
      "130it [04:05,  1.89s/it]\u001b[A\n",
      "131it [04:07,  1.89s/it]\u001b[A\n",
      "132it [04:08,  1.89s/it]\u001b[A\n",
      "133it [04:10,  1.88s/it]\u001b[A\n",
      "134it [04:12,  1.88s/it]\u001b[A\n",
      "135it [04:14,  1.88s/it]\u001b[A\n",
      "136it [04:16,  1.88s/it]\u001b[A\n",
      "137it [04:17,  1.88s/it]\u001b[A\n",
      "138it [04:19,  1.88s/it]\u001b[A\n",
      "139it [04:21,  1.88s/it]\u001b[A\n",
      "140it [04:23,  1.88s/it]\u001b[A\n",
      "141it [04:24,  1.88s/it]\u001b[A\n",
      "142it [04:26,  1.88s/it]\u001b[A\n",
      "143it [04:28,  1.88s/it]\u001b[A\n",
      "144it [04:30,  1.88s/it]\u001b[A\n",
      "145it [04:32,  1.88s/it]\u001b[A\n",
      "146it [04:33,  1.88s/it]\u001b[A\n",
      "147it [04:35,  1.88s/it]\u001b[A\n",
      "148it [04:37,  1.87s/it]\u001b[A\n",
      "149it [04:39,  1.87s/it]\u001b[A\n",
      "150it [04:41,  1.87s/it]\u001b[A\n",
      "151it [04:42,  1.87s/it]\u001b[A\n",
      "152it [04:44,  1.87s/it]\u001b[A\n",
      "\u001b[A"
     ]
    }
   ],
   "source": [
    "gen_features_mid(-1)"
   ]
  },
  {
   "cell_type": "code",
   "execution_count": 33,
   "metadata": {},
   "outputs": [
    {
     "data": {
      "text/plain": [
       "(38878, 1, 1, 2048)"
      ]
     },
     "execution_count": 33,
     "metadata": {},
     "output_type": "execute_result"
    }
   ],
   "source": [
    "features_mid.shape"
   ]
  },
  {
   "cell_type": "code",
   "execution_count": 38,
   "metadata": {},
   "outputs": [
    {
     "data": {
      "text/plain": [
       "(None, 2048)"
      ]
     },
     "execution_count": 38,
     "metadata": {},
     "output_type": "execute_result"
    }
   ],
   "source": [
    "rn_bot_inp = Input(shp[1:])\n",
    "x = rn_bot_inp\n",
    "x = identity_block(x, 3, [512, 512, 2048], stage=5, block='b')\n",
    "x = identity_block(x, 3, [512, 512, 2048], stage=5, block='c')\n",
    "x = Flatten()(x)\n",
    "rn_bot = Model(rn_bot_inp, x)\n",
    "rn_bot.output_shape"
   ]
  },
  {
   "cell_type": "code",
   "execution_count": 39,
   "metadata": {},
   "outputs": [],
   "source": [
    "for i in range(len(rn_bot.layers)-2):\n",
    "    rn_bot.layers[-i-2].set_weights(model.layers[-i-2].get_weights())"
   ]
  },
  {
   "cell_type": "code",
   "execution_count": 40,
   "metadata": {},
   "outputs": [],
   "source": [
    "features_last = rn_bot.predict(features_mid, batch_size=128)"
   ]
  },
  {
   "cell_type": "code",
   "execution_count": 42,
   "metadata": {},
   "outputs": [],
   "source": [
    "features_last = bcolz.carray(features_last, rootdir=path+'features_last_r.bc', \n",
    "                             chunklen=64, mode='w')"
   ]
  },
  {
   "cell_type": "code",
   "execution_count": 44,
   "metadata": {},
   "outputs": [],
   "source": [
    "features_last = bcolz.open(path+'features_last_r.bc')[:]"
   ]
  },
  {
   "cell_type": "code",
   "execution_count": 49,
   "metadata": {},
   "outputs": [],
   "source": [
    "lm_inp = Input(shape=(2048,))\n",
    "lm = Model(lm_inp, Dense(ndim)(lm_inp))"
   ]
  },
  {
   "cell_type": "code",
   "execution_count": 50,
   "metadata": {},
   "outputs": [],
   "source": [
    "def cos_distance(y_true, y_pred):\n",
    "    y_true = K.l2_normalize(y_true, axis=-1)\n",
    "    y_pred = K.l2_normalize(y_pred, axis=-1)\n",
    "    return K.mean(1 - K.sum((y_true * y_pred), axis=-1))"
   ]
  },
  {
   "cell_type": "code",
   "execution_count": 51,
   "metadata": {},
   "outputs": [],
   "source": [
    "lm.compile('adam','cosine_proximity')"
   ]
  },
  {
   "cell_type": "code",
   "execution_count": 52,
   "metadata": {},
   "outputs": [
    {
     "ename": "ValueError",
     "evalue": "Input arrays should have the same number of samples as target arrays. Found 38878 input samples and 19439 target samples.",
     "output_type": "error",
     "traceback": [
      "\u001b[0;31m---------------------------------------------------------------------------\u001b[0m",
      "\u001b[0;31mValueError\u001b[0m                                Traceback (most recent call last)",
      "\u001b[0;32m<ipython-input-52-f26bd0dfba4a>\u001b[0m in \u001b[0;36m<module>\u001b[0;34m()\u001b[0m\n\u001b[0;32m----> 1\u001b[0;31m \u001b[0mlm\u001b[0m\u001b[0;34m.\u001b[0m\u001b[0mevaluate\u001b[0m\u001b[0;34m(\u001b[0m\u001b[0mfeatures_last\u001b[0m\u001b[0;34m,\u001b[0m \u001b[0mvecs\u001b[0m\u001b[0;34m,\u001b[0m \u001b[0mverbose\u001b[0m\u001b[0;34m=\u001b[0m\u001b[0;36m0\u001b[0m\u001b[0;34m)\u001b[0m\u001b[0;34m\u001b[0m\u001b[0m\n\u001b[0m",
      "\u001b[0;32m/usr/lib/python3.6/site-packages/keras/engine/training.py\u001b[0m in \u001b[0;36mevaluate\u001b[0;34m(self, x, y, batch_size, verbose, sample_weight, steps)\u001b[0m\n\u001b[1;32m   1679\u001b[0m             \u001b[0msample_weight\u001b[0m\u001b[0;34m=\u001b[0m\u001b[0msample_weight\u001b[0m\u001b[0;34m,\u001b[0m\u001b[0;34m\u001b[0m\u001b[0m\n\u001b[1;32m   1680\u001b[0m             \u001b[0mcheck_batch_axis\u001b[0m\u001b[0;34m=\u001b[0m\u001b[0;32mFalse\u001b[0m\u001b[0;34m,\u001b[0m\u001b[0;34m\u001b[0m\u001b[0m\n\u001b[0;32m-> 1681\u001b[0;31m             batch_size=batch_size)\n\u001b[0m\u001b[1;32m   1682\u001b[0m         \u001b[0;31m# Prepare inputs, delegate logic to `_test_loop`.\u001b[0m\u001b[0;34m\u001b[0m\u001b[0;34m\u001b[0m\u001b[0m\n\u001b[1;32m   1683\u001b[0m         \u001b[0;32mif\u001b[0m \u001b[0mself\u001b[0m\u001b[0;34m.\u001b[0m\u001b[0muses_learning_phase\u001b[0m \u001b[0;32mand\u001b[0m \u001b[0;32mnot\u001b[0m \u001b[0misinstance\u001b[0m\u001b[0;34m(\u001b[0m\u001b[0mK\u001b[0m\u001b[0;34m.\u001b[0m\u001b[0mlearning_phase\u001b[0m\u001b[0;34m(\u001b[0m\u001b[0;34m)\u001b[0m\u001b[0;34m,\u001b[0m \u001b[0mint\u001b[0m\u001b[0;34m)\u001b[0m\u001b[0;34m:\u001b[0m\u001b[0;34m\u001b[0m\u001b[0m\n",
      "\u001b[0;32m/usr/lib/python3.6/site-packages/keras/engine/training.py\u001b[0m in \u001b[0;36m_standardize_user_data\u001b[0;34m(self, x, y, sample_weight, class_weight, check_batch_axis, batch_size)\u001b[0m\n\u001b[1;32m   1419\u001b[0m                           \u001b[0;32mfor\u001b[0m \u001b[0;34m(\u001b[0m\u001b[0mref\u001b[0m\u001b[0;34m,\u001b[0m \u001b[0msw\u001b[0m\u001b[0;34m,\u001b[0m \u001b[0mcw\u001b[0m\u001b[0;34m,\u001b[0m \u001b[0mmode\u001b[0m\u001b[0;34m)\u001b[0m\u001b[0;34m\u001b[0m\u001b[0m\n\u001b[1;32m   1420\u001b[0m                           in zip(y, sample_weights, class_weights, self._feed_sample_weight_modes)]\n\u001b[0;32m-> 1421\u001b[0;31m         \u001b[0m_check_array_lengths\u001b[0m\u001b[0;34m(\u001b[0m\u001b[0mx\u001b[0m\u001b[0;34m,\u001b[0m \u001b[0my\u001b[0m\u001b[0;34m,\u001b[0m \u001b[0msample_weights\u001b[0m\u001b[0;34m)\u001b[0m\u001b[0;34m\u001b[0m\u001b[0m\n\u001b[0m\u001b[1;32m   1422\u001b[0m         _check_loss_and_target_compatibility(y,\n\u001b[1;32m   1423\u001b[0m                                              \u001b[0mself\u001b[0m\u001b[0;34m.\u001b[0m\u001b[0m_feed_loss_fns\u001b[0m\u001b[0;34m,\u001b[0m\u001b[0;34m\u001b[0m\u001b[0m\n",
      "\u001b[0;32m/usr/lib/python3.6/site-packages/keras/engine/training.py\u001b[0m in \u001b[0;36m_check_array_lengths\u001b[0;34m(inputs, targets, weights)\u001b[0m\n\u001b[1;32m    249\u001b[0m                          \u001b[0;34m'the same number of samples as target arrays. '\u001b[0m\u001b[0;34m\u001b[0m\u001b[0m\n\u001b[1;32m    250\u001b[0m                          \u001b[0;34m'Found '\u001b[0m \u001b[0;34m+\u001b[0m \u001b[0mstr\u001b[0m\u001b[0;34m(\u001b[0m\u001b[0mlist\u001b[0m\u001b[0;34m(\u001b[0m\u001b[0mset_x\u001b[0m\u001b[0;34m)\u001b[0m\u001b[0;34m[\u001b[0m\u001b[0;36m0\u001b[0m\u001b[0;34m]\u001b[0m\u001b[0;34m)\u001b[0m \u001b[0;34m+\u001b[0m \u001b[0;34m' input samples '\u001b[0m\u001b[0;34m\u001b[0m\u001b[0m\n\u001b[0;32m--> 251\u001b[0;31m                          'and ' + str(list(set_y)[0]) + ' target samples.')\n\u001b[0m\u001b[1;32m    252\u001b[0m     \u001b[0;32mif\u001b[0m \u001b[0mlen\u001b[0m\u001b[0;34m(\u001b[0m\u001b[0mset_w\u001b[0m\u001b[0;34m)\u001b[0m \u001b[0;34m>\u001b[0m \u001b[0;36m1\u001b[0m\u001b[0;34m:\u001b[0m\u001b[0;34m\u001b[0m\u001b[0m\n\u001b[1;32m    253\u001b[0m         raise ValueError('All sample_weight arrays should have '\n",
      "\u001b[0;31mValueError\u001b[0m: Input arrays should have the same number of samples as target arrays. Found 38878 input samples and 19439 target samples."
     ]
    }
   ],
   "source": [
    "lm.evaluate(features_last, vecs, verbose=0)"
   ]
  },
  {
   "cell_type": "code",
   "execution_count": null,
   "metadata": {},
   "outputs": [],
   "source": []
  }
 ],
 "metadata": {
  "kernelspec": {
   "display_name": "Python 3",
   "language": "python",
   "name": "python3"
  },
  "language_info": {
   "codemirror_mode": {
    "name": "ipython",
    "version": 3
   },
   "file_extension": ".py",
   "mimetype": "text/x-python",
   "name": "python",
   "nbconvert_exporter": "python",
   "pygments_lexer": "ipython3",
   "version": "3.6.3"
  }
 },
 "nbformat": 4,
 "nbformat_minor": 2
}
