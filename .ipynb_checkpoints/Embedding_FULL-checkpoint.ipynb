{
 "cells": [
  {
   "cell_type": "code",
   "execution_count": 1,
   "metadata": {},
   "outputs": [
    {
     "name": "stderr",
     "output_type": "stream",
     "text": [
      "/usr/lib/python3.6/importlib/_bootstrap.py:219: RuntimeWarning: compiletime version 3.5 of module 'tensorflow.python.framework.fast_tensor_util' does not match runtime version 3.6\n",
      "  return f(*args, **kwds)\n"
     ]
    }
   ],
   "source": [
    "%matplotlib inline\n",
    "import tensorflow as tf\n",
    "import numpy as np\n",
    "import json\n",
    "from sklearn.manifold import TSNE\n",
    "import matplotlib.pyplot as plt\n",
    "from shutil import copyfile"
   ]
  },
  {
   "cell_type": "code",
   "execution_count": 2,
   "metadata": {},
   "outputs": [],
   "source": [
    "vectors = np.load('/run/media/backman/yay/ui_layout_vectors/ui_vectors.npy')"
   ]
  },
  {
   "cell_type": "code",
   "execution_count": 3,
   "metadata": {},
   "outputs": [],
   "source": [
    "names = json.load(open('/run/media/backman/yay/ui_layout_vectors/ui_names.json'))\n",
    "names = names['ui_names']\n",
    "names = np.asarray(names)"
   ]
  },
  {
   "cell_type": "code",
   "execution_count": 5,
   "metadata": {},
   "outputs": [
    {
     "data": {
      "text/plain": [
       "(72103, 64)"
      ]
     },
     "execution_count": 5,
     "metadata": {},
     "output_type": "execute_result"
    }
   ],
   "source": [
    "vectors.shape"
   ]
  },
  {
   "cell_type": "code",
   "execution_count": 5,
   "metadata": {
    "collapsed": true
   },
   "outputs": [],
   "source": [
    "tf.reset_default_graph()"
   ]
  },
  {
   "cell_type": "code",
   "execution_count": 6,
   "metadata": {
    "collapsed": true
   },
   "outputs": [],
   "source": [
    "embeddings = tf.get_variable('embedding', initializer = tf.constant(vectors))"
   ]
  },
  {
   "cell_type": "code",
   "execution_count": 7,
   "metadata": {
    "collapsed": true
   },
   "outputs": [],
   "source": [
    "test = tf.get_variable('test', initializer = tf.constant(vectors[:500]))\n"
   ]
  },
  {
   "cell_type": "code",
   "execution_count": 43,
   "metadata": {},
   "outputs": [
    {
     "name": "stdout",
     "output_type": "stream",
     "text": [
      "Tensor(\"l2_normalize_51:0\", shape=(72103, 64), dtype=float32)\n"
     ]
    }
   ],
   "source": [
    "session = tf.Session()\n",
    "\n",
    "session.run(tf.global_variables_initializer())\n",
    "\n",
    "emb_normalized = tf.nn.l2_normalize(embeddings,1)        \n",
    "test = tf.nn.l2_normalize(test,1)        \n",
    "cond = tf.constant(0.9)\n",
    "print(emb_normalized)\n",
    "# av_mean = lambda row: tf.reduce_sum(\n",
    "#     tf.cast(\n",
    "#         tf.greater(\n",
    "#             tf.reduce_sum(\n",
    "#                 tf.multiply(\n",
    "#                     emb_normalized, row)),cond),tf.float32))\n",
    "\n",
    "av_mean = lambda row: tf.reduce_sum(tf.matmul(emb_normalized, tf.expand_dims(row,1)))\n",
    "\n",
    "means = tf.map_fn(av_mean, test)\n",
    "max = tf.argmax(means)\n",
    "min = tf.argmin(means)\n",
    "# best_sum = tf.nn.top_k(tf.reduce_sum(cosine_sim, 1), 10)\n",
    "\n",
    "# best_mean = tf.nn.top_k(tf.reduce_mean(cosine_sim, 1), 10)\n",
    "# total_average = tf.reduce_mean(cosine_sim)\n",
    "# res = session.run([best_sum, best_mean, total_average])\n",
    "\n",
    "means, maximal_mean, minimal_mean = session.run([means, max, min])"
   ]
  },
  {
   "cell_type": "code",
   "execution_count": 42,
   "metadata": {},
   "outputs": [
    {
     "data": {
      "text/plain": [
       "('41233.png',\n",
       " '15417.png',\n",
       " 6,\n",
       " 368,\n",
       " array([ 56524.55078125,  51468.125     ,  48861.7109375 ,  50526.6328125 ,\n",
       "         58632.0390625 ,  22470.625     ,  61811.22265625,  52779.4375    ,\n",
       "         23603.25390625,  57174.51953125,  34302.3359375 ,  13153.6015625 ,\n",
       "         47898.48046875,  39606.41796875,  57895.109375  ,  53106.23046875,\n",
       "         51664.77734375,  33613.734375  ,  31579.85351562,  48006.90234375,\n",
       "         47555.625     ,  55582.0703125 ,  32639.07421875,  54099.71484375,\n",
       "         20313.79296875,  35602.3515625 ,  35022.0546875 ,  48732.2265625 ,\n",
       "         44588.4140625 ,  56112.36328125,  36369.49609375,  49287.7421875 ,\n",
       "         43919.6171875 ,  61656.203125  ,  45746.21875   ,  20441.5       ,\n",
       "         46320.78125   ,  45034.58984375,  56701.796875  ,  38874.89453125,\n",
       "         30278.85546875,  52155.67578125,  54662.7734375 ,  57596.5625    ,\n",
       "         51097.7265625 ,  55302.171875  ,  14626.984375  ,  50025.2890625 ,\n",
       "         61656.203125  ,  35098.12109375,  39986.0078125 ,  38280.62109375,\n",
       "         61656.203125  ,  31790.48632812,  61656.203125  ,  56773.6953125 ,\n",
       "         28813.8671875 ,  48089.87109375,  61656.203125  ,  54133.79296875,\n",
       "         52355.35546875,  42203.4921875 ,  57496.6953125 ,  55769.83203125,\n",
       "         31211.34375   ,  38019.375     ,  61656.203125  ,  56561.390625  ,\n",
       "         42646.046875  ,  58037.35546875,  52649.6953125 ,  56606.875     ,\n",
       "         37577.5625    ,  36339.16796875,  20674.36328125,  47951.0234375 ,\n",
       "         17468.76367188,  40723.28125   ,  42175.9609375 ,  37868.171875  ,\n",
       "         61656.203125  ,  45859.515625  ,  29703.21679688,  50034.765625  ,\n",
       "         58990.05859375,  45341.3671875 ,  29545.3515625 ,  52743.84375   ,\n",
       "         59179.1484375 ,  47172.41796875,  38741.        ,  48147.9375    ,\n",
       "         60343.9140625 ,  25401.86328125,  41914.265625  ,  23240.24023438,\n",
       "         58610.46484375,  41491.265625  ,  58699.6640625 ,  31032.11914062,\n",
       "         49509.74609375,  32035.99609375,  40578.125     ,  34263.25      ,\n",
       "         60741.71484375,  38836.546875  ,  56909.77734375,  49627.078125  ,\n",
       "         60388.03125   ,  61656.203125  ,  27540.23828125,  51043.140625  ,\n",
       "         60948.16796875,  29450.18359375,  49032.67578125,  25012.38476562,\n",
       "         46960.1015625 ,  42830.06640625,  51702.2109375 ,  57067.5078125 ,\n",
       "         61656.203125  ,  41938.65234375,  25922.77734375,  37598.4375    ,\n",
       "         18958.30664062,  44494.2890625 ,   7179.28466797,  37240.5703125 ,\n",
       "         30844.125     ,  60694.6015625 ,  46728.70703125,  46873.7890625 ,\n",
       "         41007.5625    ,  21103.25390625,  38398.2734375 ,  61656.203125  ,\n",
       "         32816.17578125,  34612.8671875 ,  32892.1640625 ,  58586.70703125,\n",
       "         51867.15625   ,  55356.15234375,  45327.44921875,  61134.0625    ,\n",
       "         30835.8125    ,   9940.06835938,  55220.2734375 ,  57681.8828125 ,\n",
       "         51436.6640625 ,  52644.86328125,  55356.15234375,  31372.57421875,\n",
       "         55401.0390625 ,  40378.3671875 ,  37240.5703125 ,  37659.54296875,\n",
       "         14229.99414062,  10986.34179688,  48847.4609375 ,  12974.48046875,\n",
       "         12738.10742188,  48065.6484375 ,  59452.98046875,  33756.6015625 ,\n",
       "         54015.7578125 ,  48939.375     ,  49451.828125  ,  40870.33984375,\n",
       "         35976.89453125,  55434.5       ,  49690.59765625,  50304.078125  ,\n",
       "         48723.4453125 ,  49811.8125    ,  16605.3125    ,  43314.0078125 ,\n",
       "         45575.48046875,  27695.91210938,  56282.9375    ,  54519.58203125,\n",
       "         39137.55078125,  50294.        ,  53661.53515625,  39842.25390625,\n",
       "         49053.7734375 ,  50072.328125  ,  46694.7890625 ,  42687.4296875 ,\n",
       "         30918.46484375,  36811.8125    ,  40390.20703125,  42916.4921875 ,\n",
       "         44556.3828125 ,  49953.3515625 ,  54808.171875  ,  37788.390625  ,\n",
       "         37540.79296875,  44530.28125   ,  36548.9609375 ,  31129.94921875,\n",
       "         54652.43359375,  59811.3359375 ,  43638.76171875,  61656.203125  ,\n",
       "         55329.47265625,  49329.859375  ,  34185.2421875 ,  52838.125     ,\n",
       "         61656.203125  ,  56008.51171875,  36378.546875  ,  58397.4609375 ,\n",
       "         49087.88671875,  35472.109375  ,  12391.94628906,  54218.5       ,\n",
       "         59046.66015625,  50750.78515625,  30078.99609375,  37024.64453125,\n",
       "          8674.93359375,  37638.5859375 ,  29697.80859375,  58890.71875   ,\n",
       "         44134.36328125,  39329.0625    ,  59167.046875  ,  53588.5078125 ,\n",
       "         47172.41796875,  57507.15625   ,  30174.1640625 ,  25117.046875  ,\n",
       "         43295.65625   ,  48583.91015625,  45588.12109375,  42079.86328125,\n",
       "         38706.3515625 ,  54857.44140625,  40387.2265625 ,  49707.8046875 ,\n",
       "         57222.2265625 ,  49962.4609375 ,  46749.0703125 ,  41105.74609375,\n",
       "         24681.6015625 ,  47434.49609375,  34463.796875  ,  20609.62890625,\n",
       "         31176.67382812,  49633.78125   ,  50475.171875  ,  37192.6796875 ,\n",
       "         18871.8828125 ,  49617.046875  ,  27832.08203125,  37849.7578125 ,\n",
       "         61656.203125  ,  61811.22265625,  33106.2109375 ,  57227.0546875 ,\n",
       "         41420.734375  ,  59041.90625   ,  48254.390625  ,  50419.6875    ,\n",
       "         56816.57421875,  42952.66796875,  52132.73046875,  41585.3125    ,\n",
       "         55409.5546875 ,  58890.15625   ,  30124.39453125,  31478.26171875,\n",
       "         49869.7734375 ,  33091.6875    ,  60397.30859375,  42646.5859375 ,\n",
       "         47824.86328125,  25697.7109375 ,  45587.67578125,  31140.66992188,\n",
       "         42431.6953125 ,  35047.5078125 ,  36785.3828125 ,  34367.515625  ,\n",
       "         25764.27539062,  45557.1015625 ,  28676.6796875 ,  28504.91210938,\n",
       "         61466.265625  ,  57384.6328125 ,  24665.80273438,  53734.25390625,\n",
       "         55222.4296875 ,  56215.65625   ,  47760.1796875 ,  48517.21875   ,\n",
       "         55281.18359375,  59760.34375   ,  35405.875     ,  50983.79296875,\n",
       "         10187.2578125 ,  55462.9140625 ,  26539.24609375,  42420.67578125,\n",
       "         23926.7578125 ,  43081.89453125,  61581.8203125 ,  22363.08789062,\n",
       "         61656.203125  ,  47662.00390625,  61656.203125  ,  19539.60351562,\n",
       "         52931.04296875,  51477.48828125,  47435.13671875,  58017.25      ,\n",
       "         41731.7578125 ,  53682.85546875,  49975.40234375,  29539.19140625,\n",
       "         13943.64453125,  24744.01171875,  27253.39453125,  32701.7265625 ,\n",
       "         47697.1484375 ,  38893.1328125 ,  28586.3828125 ,  30976.77148438,\n",
       "         30012.515625  ,  28501.71289062,  28417.10351562,  51687.484375  ,\n",
       "         61466.265625  ,  59947.72265625,  61466.265625  ,  61656.203125  ,\n",
       "         55356.15234375,  25509.375     ,  45772.76171875,  47798.67578125,\n",
       "         31298.71484375,  61172.5234375 ,  34713.84375   ,  15270.14648438,\n",
       "         12509.97753906,  57472.05078125,  44067.921875  ,  27227.34765625,\n",
       "         53552.0078125 ,  47901.33203125,  49872.78515625,  28455.58984375,\n",
       "         56996.07421875,  24042.671875  ,  42644.6796875 ,  52591.546875  ,\n",
       "         47574.8828125 ,  46312.14453125,  56219.21484375,  54822.2890625 ,\n",
       "         57459.59765625,  41788.5       ,  47775.234375  ,  29155.75195312,\n",
       "         33763.58203125,  33182.86328125,  58881.7734375 ,  33924.3046875 ,\n",
       "          5679.21289062,  50405.3203125 ,  57285.29296875,  54502.76953125,\n",
       "         50763.875     ,  56561.390625  ,  37102.671875  ,  61466.265625  ,\n",
       "         45036.65234375,  48308.65234375,  58540.0625    ,  41129.3125    ,\n",
       "         59860.96875   ,  43679.60546875,  27672.6328125 ,  46259.71484375,\n",
       "         32435.5625    ,  41822.703125  ,  61656.203125  ,  37138.40625   ,\n",
       "         48915.80859375,  29250.19726562,  56414.7890625 ,  42436.58984375,\n",
       "         40826.6484375 ,  42841.81640625,  49841.90625   ,  61656.203125  ,\n",
       "         23871.4375    ,  44580.3984375 ,  51487.890625  ,  26893.66796875,\n",
       "         43573.7421875 ,  61656.203125  ,  55356.15234375,  61656.203125  ,\n",
       "         60408.94921875,  56973.9453125 ,  50458.6171875 ,  55908.20703125,\n",
       "         48691.2578125 ,  53214.0625    ,  44328.3046875 ,  56630.1484375 ,\n",
       "         58073.859375  ,  58699.625     ,  43173.765625  ,  55144.796875  ,\n",
       "         21123.47265625,  26431.08203125,  60686.3046875 ,  42299.703125  ,\n",
       "         30382.54296875,  33154.62109375,  61552.3359375 ,  34426.71875   ,\n",
       "         51201.75      ,  55356.15234375,  43051.39453125,  55856.83984375,\n",
       "         31983.34375   ,  40952.15625   ,  48116.9296875 ,  29307.63671875,\n",
       "         51256.734375  ,  26187.375     ,  35276.15625   ,  28393.35742188,\n",
       "         52151.5234375 ,  42277.19921875,  60917.47265625,  58038.00390625,\n",
       "         40744.078125  ,  24316.13867188,  61134.0625    ,  16565.69726562,\n",
       "         11130.94921875,  29073.18359375,  33091.32421875,  58357.1484375 ,\n",
       "         43024.71875   ,  61656.203125  ,  55077.3203125 ,  41745.6875    ,\n",
       "         28968.0625    ,  41245.2109375 ,  48344.8671875 ,  36658.9296875 ,\n",
       "         48840.82421875,  11571.94921875,  19297.58203125,   8176.57617188,\n",
       "         61116.578125  ,  57905.29296875,  19997.62695312,  27420.21679688,\n",
       "         47623.3203125 ,  34727.1015625 ,  15641.6796875 ,  43639.97265625,\n",
       "         52541.7734375 ,  49892.01171875,  23831.38671875,  36855.81640625,\n",
       "         55212.9765625 ,  57659.52734375,  41491.28125   ,  45682.9921875 ,\n",
       "         37360.77734375,  45933.75390625,  44825.9609375 ,  33882.703125  ,\n",
       "         26775.78515625,  13691.09667969,  45762.578125  ,  46789.703125  ,\n",
       "         40412.5       ,  49899.39453125,  43130.29296875,  59252.859375  ,\n",
       "         50075.75      ,  20188.12109375,  27692.31640625,  51514.609375  ,\n",
       "         48300.21875   ,  55356.15234375,  30755.55078125,  13240.49414062,\n",
       "         12379.140625  ,  53031.5546875 ,  55356.15234375,  61656.203125  ], dtype=float32))"
      ]
     },
     "execution_count": 42,
     "metadata": {},
     "output_type": "execute_result"
    }
   ],
   "source": [
    "names[maximal_mean], names[minimal_mean], maximal_mean, minimal_mean, means"
   ]
  },
  {
   "cell_type": "code",
   "execution_count": 26,
   "metadata": {},
   "outputs": [
    {
     "name": "stdout",
     "output_type": "stream",
     "text": [
      "[[23341 19445  5932 32964 66896 32891 19607 42472 26799 65047]]\n"
     ]
    }
   ],
   "source": [
    "close_to_me = tf.placeholder(tf.float32, [1, vectors.shape[1]])\n",
    "\n",
    "norm_emb = tf.nn.l2_normalize(embeddings, dim=1)\n",
    "norm_ele = tf.nn.l2_normalize(close_to_me, dim=1)\n",
    "\n",
    "cosine_sim = tf.matmul(norm_ele, tf.transpose(norm_emb, [1,0]))\n",
    "\n",
    "closest_ui = tf.argmax(cosine_sim, 1)\n",
    "\n",
    "top_uis = tf.nn.top_k(cosine_sim, k=10)\n",
    "res = session.run(top_uis, feed_dict = {close_to_me: vectors[23341:23342,:]})\n",
    "print(res.indices)"
   ]
  },
  {
   "cell_type": "code",
   "execution_count": 36,
   "metadata": {},
   "outputs": [
    {
     "name": "stdout",
     "output_type": "stream",
     "text": [
      "Tensor(\"l2_normalize_43:0\", shape=(72103, 64), dtype=float32)\n",
      "(1, 72103)\n"
     ]
    }
   ],
   "source": [
    "close_to_me = tf.placeholder(tf.float32, [1, vectors.shape[1]])\n",
    "\n",
    "norm_emb = tf.nn.l2_normalize(embeddings, dim=1)\n",
    "norm_ele = tf.nn.l2_normalize(close_to_me, dim=1)\n",
    "\n",
    "cosine_sim = tf.matmul(norm_ele, tf.transpose(norm_emb, [1,0]))\n",
    "\n",
    "\n",
    "res = session.run(cosine_sim, feed_dict = {close_to_me: vectors[23341:23342,:]})\n",
    "print(res.shape)"
   ]
  },
  {
   "cell_type": "code",
   "execution_count": null,
   "metadata": {
    "collapsed": true
   },
   "outputs": [],
   "source": [
    "a = tf.constant([[1,2,3],[4,5,6]])\n",
    "x = lambda r: tf.reduce_sum(tf.cast(tf.less(tf.reduce_sum(tf.multiply(r,a)),tf.constant(50)),tf.int32))\n",
    "print(session.run(tf.map_fn(x, a)))"
   ]
  },
  {
   "cell_type": "code",
   "execution_count": 36,
   "metadata": {},
   "outputs": [],
   "source": [
    "tsne = TSNE(n_components=2, verbose=1, perplexity=40, n_iter=300)\n"
   ]
  },
  {
   "cell_type": "code",
   "execution_count": 37,
   "metadata": {},
   "outputs": [
    {
     "name": "stdout",
     "output_type": "stream",
     "text": [
      "[t-SNE] Computing 121 nearest neighbors...\n",
      "[t-SNE] Indexed 72103 samples in 0.453s...\n",
      "[t-SNE] Computed neighbors for 72103 samples in 896.960s...\n",
      "[t-SNE] Computed conditional probabilities for sample 1000 / 72103\n",
      "[t-SNE] Computed conditional probabilities for sample 2000 / 72103\n",
      "[t-SNE] Computed conditional probabilities for sample 3000 / 72103\n",
      "[t-SNE] Computed conditional probabilities for sample 4000 / 72103\n",
      "[t-SNE] Computed conditional probabilities for sample 5000 / 72103\n",
      "[t-SNE] Computed conditional probabilities for sample 6000 / 72103\n",
      "[t-SNE] Computed conditional probabilities for sample 7000 / 72103\n",
      "[t-SNE] Computed conditional probabilities for sample 8000 / 72103\n",
      "[t-SNE] Computed conditional probabilities for sample 9000 / 72103\n",
      "[t-SNE] Computed conditional probabilities for sample 10000 / 72103\n",
      "[t-SNE] Computed conditional probabilities for sample 11000 / 72103\n",
      "[t-SNE] Computed conditional probabilities for sample 12000 / 72103\n",
      "[t-SNE] Computed conditional probabilities for sample 13000 / 72103\n",
      "[t-SNE] Computed conditional probabilities for sample 14000 / 72103\n",
      "[t-SNE] Computed conditional probabilities for sample 15000 / 72103\n",
      "[t-SNE] Computed conditional probabilities for sample 16000 / 72103\n",
      "[t-SNE] Computed conditional probabilities for sample 17000 / 72103\n",
      "[t-SNE] Computed conditional probabilities for sample 18000 / 72103\n",
      "[t-SNE] Computed conditional probabilities for sample 19000 / 72103\n",
      "[t-SNE] Computed conditional probabilities for sample 20000 / 72103\n",
      "[t-SNE] Computed conditional probabilities for sample 21000 / 72103\n",
      "[t-SNE] Computed conditional probabilities for sample 22000 / 72103\n",
      "[t-SNE] Computed conditional probabilities for sample 23000 / 72103\n",
      "[t-SNE] Computed conditional probabilities for sample 24000 / 72103\n",
      "[t-SNE] Computed conditional probabilities for sample 25000 / 72103\n",
      "[t-SNE] Computed conditional probabilities for sample 26000 / 72103\n",
      "[t-SNE] Computed conditional probabilities for sample 27000 / 72103\n",
      "[t-SNE] Computed conditional probabilities for sample 28000 / 72103\n",
      "[t-SNE] Computed conditional probabilities for sample 29000 / 72103\n",
      "[t-SNE] Computed conditional probabilities for sample 30000 / 72103\n",
      "[t-SNE] Computed conditional probabilities for sample 31000 / 72103\n",
      "[t-SNE] Computed conditional probabilities for sample 32000 / 72103\n",
      "[t-SNE] Computed conditional probabilities for sample 33000 / 72103\n",
      "[t-SNE] Computed conditional probabilities for sample 34000 / 72103\n",
      "[t-SNE] Computed conditional probabilities for sample 35000 / 72103\n",
      "[t-SNE] Computed conditional probabilities for sample 36000 / 72103\n",
      "[t-SNE] Computed conditional probabilities for sample 37000 / 72103\n",
      "[t-SNE] Computed conditional probabilities for sample 38000 / 72103\n",
      "[t-SNE] Computed conditional probabilities for sample 39000 / 72103\n",
      "[t-SNE] Computed conditional probabilities for sample 40000 / 72103\n",
      "[t-SNE] Computed conditional probabilities for sample 41000 / 72103\n",
      "[t-SNE] Computed conditional probabilities for sample 42000 / 72103\n",
      "[t-SNE] Computed conditional probabilities for sample 43000 / 72103\n",
      "[t-SNE] Computed conditional probabilities for sample 44000 / 72103\n",
      "[t-SNE] Computed conditional probabilities for sample 45000 / 72103\n",
      "[t-SNE] Computed conditional probabilities for sample 46000 / 72103\n",
      "[t-SNE] Computed conditional probabilities for sample 47000 / 72103\n",
      "[t-SNE] Computed conditional probabilities for sample 48000 / 72103\n",
      "[t-SNE] Computed conditional probabilities for sample 49000 / 72103\n",
      "[t-SNE] Computed conditional probabilities for sample 50000 / 72103\n",
      "[t-SNE] Computed conditional probabilities for sample 51000 / 72103\n",
      "[t-SNE] Computed conditional probabilities for sample 52000 / 72103\n",
      "[t-SNE] Computed conditional probabilities for sample 53000 / 72103\n",
      "[t-SNE] Computed conditional probabilities for sample 54000 / 72103\n",
      "[t-SNE] Computed conditional probabilities for sample 55000 / 72103\n",
      "[t-SNE] Computed conditional probabilities for sample 56000 / 72103\n",
      "[t-SNE] Computed conditional probabilities for sample 57000 / 72103\n",
      "[t-SNE] Computed conditional probabilities for sample 58000 / 72103\n",
      "[t-SNE] Computed conditional probabilities for sample 59000 / 72103\n",
      "[t-SNE] Computed conditional probabilities for sample 60000 / 72103\n",
      "[t-SNE] Computed conditional probabilities for sample 61000 / 72103\n",
      "[t-SNE] Computed conditional probabilities for sample 62000 / 72103\n",
      "[t-SNE] Computed conditional probabilities for sample 63000 / 72103\n",
      "[t-SNE] Computed conditional probabilities for sample 64000 / 72103\n",
      "[t-SNE] Computed conditional probabilities for sample 65000 / 72103\n",
      "[t-SNE] Computed conditional probabilities for sample 66000 / 72103\n",
      "[t-SNE] Computed conditional probabilities for sample 67000 / 72103\n",
      "[t-SNE] Computed conditional probabilities for sample 68000 / 72103\n",
      "[t-SNE] Computed conditional probabilities for sample 69000 / 72103\n",
      "[t-SNE] Computed conditional probabilities for sample 70000 / 72103\n",
      "[t-SNE] Computed conditional probabilities for sample 71000 / 72103\n",
      "[t-SNE] Computed conditional probabilities for sample 72000 / 72103\n",
      "[t-SNE] Computed conditional probabilities for sample 72103 / 72103\n",
      "[t-SNE] Mean sigma: 0.000000\n",
      "[t-SNE] KL divergence after 250 iterations with early exaggeration: 100.631020\n",
      "[t-SNE] Error after 300 iterations: 5.091631\n"
     ]
    }
   ],
   "source": [
    "tsne_results = tsne.fit_transform(vectors)\n"
   ]
  },
  {
   "cell_type": "code",
   "execution_count": 38,
   "metadata": {},
   "outputs": [
    {
     "name": "stdout",
     "output_type": "stream",
     "text": [
      "(72103, 2)\n"
     ]
    }
   ],
   "source": [
    "print(tsne_results.shape)"
   ]
  },
  {
   "cell_type": "code",
   "execution_count": 39,
   "metadata": {},
   "outputs": [
    {
     "data": {
      "text/plain": [
       "<matplotlib.collections.PathCollection at 0x7f52ed6fb390>"
      ]
     },
     "execution_count": 39,
     "metadata": {},
     "output_type": "execute_result"
    },
    {
     "data": {
      "image/png": "[encoded data removed]",
      "text/plain": [
       "<matplotlib.figure.Figure at 0x7f52ea4ffbe0>"
      ]
     },
     "metadata": {},
     "output_type": "display_data"
    }
   ],
   "source": [
    "plt.scatter(tsne_results[:,0], tsne_results[:,1])"
   ]
  },
  {
   "cell_type": "code",
   "execution_count": 35,
   "metadata": {},
   "outputs": [
    {
     "data": {
      "text/plain": [
       "<matplotlib.collections.PathCollection at 0x7f52ea494f60>"
      ]
     },
     "execution_count": 35,
     "metadata": {},
     "output_type": "execute_result"
    },
    {
     "data": {
      "image/png": "[encoded data removed]",
      "text/plain": [
       "<matplotlib.figure.Figure at 0x7f52ea612e48>"
      ]
     },
     "metadata": {},
     "output_type": "display_data"
    }
   ],
   "source": [
    "from sklearn.preprocessing import StandardScaler\n",
    "from sklearn.decomposition import PCA as sklearnPCA\n",
    "sklearn_pca = sklearnPCA(n_components=2)\n",
    "vectors_std = StandardScaler().fit_transform(vectors)\n",
    "Y_sklearn = sklearn_pca.fit_transform(vectors_std)\n",
    "plt.scatter(Y_sklearn[:,0], Y_sklearn[:,1])"
   ]
  },
  {
   "cell_type": "code",
   "execution_count": 4,
   "metadata": {},
   "outputs": [
    {
     "name": "stdout",
     "output_type": "stream",
     "text": [
      "number of estimated clusters : 2\n"
     ]
    },
    {
     "ename": "NameError",
     "evalue": "name 'Y_sklearn' is not defined",
     "output_type": "error",
     "traceback": [
      "\u001b[0;31m---------------------------------------------------------------------------\u001b[0m",
      "\u001b[0;31mNameError\u001b[0m                                 Traceback (most recent call last)",
      "\u001b[0;32m<ipython-input-4-c95799f79d4c>\u001b[0m in \u001b[0;36m<module>\u001b[0;34m()\u001b[0m\n\u001b[1;32m     22\u001b[0m     \u001b[0mmy_members\u001b[0m \u001b[0;34m=\u001b[0m \u001b[0mlabels\u001b[0m \u001b[0;34m==\u001b[0m \u001b[0mk\u001b[0m\u001b[0;34m\u001b[0m\u001b[0m\n\u001b[1;32m     23\u001b[0m     \u001b[0mcluster_center\u001b[0m \u001b[0;34m=\u001b[0m \u001b[0mcluster_centers\u001b[0m\u001b[0;34m[\u001b[0m\u001b[0mk\u001b[0m\u001b[0;34m]\u001b[0m\u001b[0;34m\u001b[0m\u001b[0m\n\u001b[0;32m---> 24\u001b[0;31m     \u001b[0mplt\u001b[0m\u001b[0;34m.\u001b[0m\u001b[0mplot\u001b[0m\u001b[0;34m(\u001b[0m\u001b[0mY_sklearn\u001b[0m\u001b[0;34m[\u001b[0m\u001b[0mmy_members\u001b[0m\u001b[0;34m,\u001b[0m \u001b[0;36m0\u001b[0m\u001b[0;34m]\u001b[0m\u001b[0;34m,\u001b[0m \u001b[0mY_sklearn\u001b[0m\u001b[0;34m[\u001b[0m\u001b[0mmy_members\u001b[0m\u001b[0;34m,\u001b[0m \u001b[0;36m1\u001b[0m\u001b[0;34m]\u001b[0m\u001b[0;34m,\u001b[0m \u001b[0mcol\u001b[0m \u001b[0;34m+\u001b[0m \u001b[0;34m'.'\u001b[0m\u001b[0;34m)\u001b[0m\u001b[0;34m\u001b[0m\u001b[0m\n\u001b[0m\u001b[1;32m     25\u001b[0m     plt.plot(cluster_center[0], cluster_center[1], 'o', markerfacecolor=col,\n\u001b[1;32m     26\u001b[0m              markeredgecolor='k', markersize=14)\n",
      "\u001b[0;31mNameError\u001b[0m: name 'Y_sklearn' is not defined"
     ]
    },
    {
     "data": {
      "text/plain": [
       "<matplotlib.figure.Figure at 0x7f8c7683dfd0>"
      ]
     },
     "metadata": {},
     "output_type": "display_data"
    }
   ],
   "source": [
    "from sklearn.cluster import MeanShift, estimate_bandwidth\n",
    "bandwidth = estimate_bandwidth(vectors, quantile=0.055)#0.6\n",
    "ms = MeanShift(bandwidth=bandwidth, bin_seeding=True)\n",
    "ms.fit(vectors)\n",
    "labels = ms.labels_\n",
    "cluster_centers = ms.cluster_centers_\n",
    "\n",
    "labels_unique = np.unique(labels)\n",
    "n_clusters_ = len(labels_unique)\n",
    "\n",
    "print(\"number of estimated clusters : %d\" % n_clusters_)\n",
    "\n",
    "# #############################################################################\n",
    "# Plot result\n",
    "from itertools import cycle\n",
    "\n",
    "plt.figure(1)\n",
    "plt.clf()\n",
    "\n",
    "colors = cycle('bgrcmykbgrcmykbgrcmykbgrcmyk')\n",
    "for k, col in zip(range(n_clusters_), colors):\n",
    "    my_members = labels == k\n",
    "    cluster_center = cluster_centers[k]\n",
    "    plt.plot(Y_sklearn[my_members, 0], Y_sklearn[my_members, 1], col + '.')\n",
    "    plt.plot(cluster_center[0], cluster_center[1], 'o', markerfacecolor=col,\n",
    "             markeredgecolor='k', markersize=14)\n",
    "plt.title('Estimated number of clusters: %d' % n_clusters_)\n",
    "plt.show()"
   ]
  },
  {
   "cell_type": "code",
   "execution_count": 5,
   "metadata": {},
   "outputs": [],
   "source": [
    "from PIL import Image\n",
    "src_dir = '/run/media/backman/yay/unique_uis/combined/'\n",
    "dst_dir = '/run/media/backman/yay/unique_uis/special2/'\n",
    "for key, label in enumerate(ms.labels_):\n",
    "    if label == 3:\n",
    "        file = names[key].replace('png','jpg')\n",
    "        im = Image.open(src_dir + file)\n",
    "        width, height = im.size\n",
    "        top = height * 0.0323\n",
    "        bottom = height * 0.9339\n",
    "        crop = im.crop((0,top,width,bottom))\n",
    "        crop = crop.resize((36,64))\n",
    "        crop.save(dst_dir+file,\"JPEG\")\n",
    "    "
   ]
  },
  {
   "cell_type": "code",
   "execution_count": null,
   "metadata": {},
   "outputs": [],
   "source": []
  }
 ],
 "metadata": {
  "kernelspec": {
   "display_name": "Python 3",
   "language": "python",
   "name": "python3"
  },
  "language_info": {
   "codemirror_mode": {
    "name": "ipython",
    "version": 3
   },
   "file_extension": ".py",
   "mimetype": "text/x-python",
   "name": "python",
   "nbconvert_exporter": "python",
   "pygments_lexer": "ipython3",
   "version": "3.6.3"
  }
 },
 "nbformat": 4,
 "nbformat_minor": 2
}
