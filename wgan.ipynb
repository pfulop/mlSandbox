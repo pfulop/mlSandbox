{
 "cells": [
  {
   "cell_type": "code",
   "execution_count": 1,
   "metadata": {},
   "outputs": [],
   "source": [
    "%matplotlib inline\n",
    "from torchvision import datasets, transforms\n",
    "import torch\n",
    "from dcgan import DCGAND, DCGANG\n",
    "from torch import nn, optim, FloatTensor as FT\n",
    "from torch.autograd import Variable\n",
    "from tqdm import tqdm\n",
    "import os.path\n",
    "import matplotlib.pyplot as plt\n",
    "import numpy as np\n",
    "from torchvision import utils"
   ]
  },
  {
   "cell_type": "code",
   "execution_count": 2,
   "metadata": {},
   "outputs": [],
   "source": [
    "bs, sz, nz = 64, 64, 100"
   ]
  },
  {
   "cell_type": "code",
   "execution_count": 3,
   "metadata": {},
   "outputs": [
    {
     "name": "stdout",
     "output_type": "stream",
     "text": [
      "Files already downloaded and verified\n"
     ]
    }
   ],
   "source": [
    "PATH = '/run/media/backman/yay/cifar10'\n",
    "PATH2 = '/run/media/backman/yay/LSUN'\n",
    "MODEL_PATH = '/run/media/backman/yay/wganmodelD.pth'\n",
    "MODEL2_PATH = '/run/media/backman/yay/wganmodelG.pth'\n",
    "data = datasets.CIFAR10(root=PATH, download=True,\n",
    "   transform=transforms.Compose([\n",
    "       transforms.Scale(sz),\n",
    "       transforms.ToTensor(),\n",
    "       transforms.Normalize((0.5, 0.5, 0.5), (0.5, 0.5, 0.5)),\n",
    "   ])\n",
    ")\n",
    "data = datasets.LSUN(db_path=PATH2, classes=['bedroom_train'],\n",
    "    transform=transforms.Compose([\n",
    "        transforms.Scale(sz),\n",
    "        transforms.CenterCrop(sz),\n",
    "        transforms.ToTensor(),\n",
    "        transforms.Normalize((0.5, 0.5, 0.5), (0.5, 0.5, 0.5)),\n",
    "]))"
   ]
  },
  {
   "cell_type": "code",
   "execution_count": 4,
   "metadata": {},
   "outputs": [
    {
     "data": {
      "text/plain": [
       "3033042"
      ]
     },
     "execution_count": 4,
     "metadata": {},
     "output_type": "execute_result"
    }
   ],
   "source": [
    "len(data)"
   ]
  },
  {
   "cell_type": "code",
   "execution_count": 5,
   "metadata": {},
   "outputs": [
    {
     "data": {
      "text/plain": [
       "47392"
      ]
     },
     "execution_count": 5,
     "metadata": {},
     "output_type": "execute_result"
    }
   ],
   "source": [
    "dataloader = torch.utils.data.DataLoader(data, bs, True, num_workers = 8)\n",
    "n = len(dataloader); n"
   ]
  },
  {
   "cell_type": "code",
   "execution_count": 6,
   "metadata": {},
   "outputs": [],
   "source": [
    "def weights_init(m):\n",
    "    if isinstance(m, (nn.Conv2d, nn.ConvTranspose2d)): \n",
    "        m.weight.data.normal_(0.0, 0.02)\n",
    "    elif isinstance(m, nn.BatchNorm2d):\n",
    "        m.weight.data.normal_(1.0, 0.02)\n",
    "        m.bias.data.fill_(0)"
   ]
  },
  {
   "cell_type": "code",
   "execution_count": 7,
   "metadata": {},
   "outputs": [
    {
     "data": {
      "text/plain": [
       "DCGANG (\n",
       "  (main): Sequential (\n",
       "    (initial-100.512.convt): ConvTranspose2d(100, 512, kernel_size=(4, 4), stride=(1, 1), bias=False)\n",
       "    (initial-512.batchnorm): BatchNorm2d(512, eps=1e-05, momentum=0.1, affine=True)\n",
       "    (initial-512.relu): ReLU (inplace)\n",
       "    (pyramid-512.256.convt): ConvTranspose2d(512, 256, kernel_size=(4, 4), stride=(2, 2), padding=(1, 1), bias=False)\n",
       "    (pyramid-256.batchnorm): BatchNorm2d(256, eps=1e-05, momentum=0.1, affine=True)\n",
       "    (pyramid-256.relu): ReLU (inplace)\n",
       "    (pyramid-256.128.convt): ConvTranspose2d(256, 128, kernel_size=(4, 4), stride=(2, 2), padding=(1, 1), bias=False)\n",
       "    (pyramid-128.batchnorm): BatchNorm2d(128, eps=1e-05, momentum=0.1, affine=True)\n",
       "    (pyramid-128.relu): ReLU (inplace)\n",
       "    (pyramid-128.64.convt): ConvTranspose2d(128, 64, kernel_size=(4, 4), stride=(2, 2), padding=(1, 1), bias=False)\n",
       "    (pyramid-64.batchnorm): BatchNorm2d(64, eps=1e-05, momentum=0.1, affine=True)\n",
       "    (pyramid-64.relu): ReLU (inplace)\n",
       "    (extra-0-64.64.convt): ConvTranspose2d(64, 64, kernel_size=(3, 3), stride=(1, 1), padding=(1, 1), bias=False)\n",
       "    (extra-0-64.batchnorm): BatchNorm2d(64, eps=1e-05, momentum=0.1, affine=True)\n",
       "    (extra-0-64.relu): ReLU (inplace)\n",
       "    (final.convt): ConvTranspose2d(64, 3, kernel_size=(4, 4), stride=(2, 2), padding=(1, 1), bias=False)\n",
       "    (final.tanh): Tanh ()\n",
       "  )\n",
       ")"
      ]
     },
     "execution_count": 7,
     "metadata": {},
     "output_type": "execute_result"
    }
   ],
   "source": [
    "netG = DCGANG(1).cuda()\n",
    "netG.apply(weights_init)"
   ]
  },
  {
   "cell_type": "code",
   "execution_count": 8,
   "metadata": {},
   "outputs": [
    {
     "data": {
      "text/plain": [
       "DCGAND (\n",
       "  (main): Sequential (\n",
       "    (start-conv-3.64.conv): Conv2d(3, 64, kernel_size=(4, 4), stride=(2, 2), padding=(1, 1), bias=False)\n",
       "    (start-conv-64.batchnorm): BatchNorm2d(64, eps=1e-05, momentum=0.1, affine=True)\n",
       "    (start-conv-64.relu): LeakyReLU (0.2, inplace)\n",
       "    (0-conv-64.64.conv): Conv2d(64, 64, kernel_size=(3, 3), stride=(1, 1), padding=(1, 1), bias=False)\n",
       "    (0-conv-64.batchnorm): BatchNorm2d(64, eps=1e-05, momentum=0.1, affine=True)\n",
       "    (0-conv-64.relu): LeakyReLU (0.2, inplace)\n",
       "    (pyramid-64.128.conv): Conv2d(64, 128, kernel_size=(4, 4), stride=(2, 2), padding=(1, 1), bias=False)\n",
       "    (pyramid-128.batchnorm): BatchNorm2d(128, eps=1e-05, momentum=0.1, affine=True)\n",
       "    (pyramid-128.relu): LeakyReLU (0.2, inplace)\n",
       "    (pyramid-128.256.conv): Conv2d(128, 256, kernel_size=(4, 4), stride=(2, 2), padding=(1, 1), bias=False)\n",
       "    (pyramid-256.batchnorm): BatchNorm2d(256, eps=1e-05, momentum=0.1, affine=True)\n",
       "    (pyramid-256.relu): LeakyReLU (0.2, inplace)\n",
       "    (pyramid-256.512.conv): Conv2d(256, 512, kernel_size=(4, 4), stride=(2, 2), padding=(1, 1), bias=False)\n",
       "    (pyramid-512.batchnorm): BatchNorm2d(512, eps=1e-05, momentum=0.1, affine=True)\n",
       "    (pyramid-512.relu): LeakyReLU (0.2, inplace)\n",
       "    (final-conv): Conv2d(512, 1, kernel_size=(4, 4), stride=(1, 1), bias=False)\n",
       "  )\n",
       ")"
      ]
     },
     "execution_count": 8,
     "metadata": {},
     "output_type": "execute_result"
    }
   ],
   "source": [
    "netD = DCGAND(1).cuda()\n",
    "netD.apply(weights_init)"
   ]
  },
  {
   "cell_type": "code",
   "execution_count": 9,
   "metadata": {},
   "outputs": [],
   "source": [
    "def Var(*params): return Variable(FT(*params).cuda())"
   ]
  },
  {
   "cell_type": "code",
   "execution_count": 10,
   "metadata": {},
   "outputs": [],
   "source": [
    "def create_noise(b): \n",
    "    return Variable(FT(b, nz, 1, 1).cuda().normal_(0, 1))"
   ]
  },
  {
   "cell_type": "code",
   "execution_count": 11,
   "metadata": {
    "code_folding": []
   },
   "outputs": [],
   "source": [
    "# Input placeholder\n",
    "input = Var(bs, 3, sz, nz)\n",
    "# Fixed noise used just for visualizing images when done\n",
    "fixed_noise = create_noise(bs)\n",
    "# The numbers 0 and -1\n",
    "one = torch.FloatTensor([1]).cuda()\n",
    "mone = one * -1"
   ]
  },
  {
   "cell_type": "code",
   "execution_count": 12,
   "metadata": {},
   "outputs": [],
   "source": [
    "optimizerD = optim.RMSprop(netD.parameters(), lr = 1e-4)\n",
    "optimizerG = optim.RMSprop(netG.parameters(), lr = 1e-4)"
   ]
  },
  {
   "cell_type": "code",
   "execution_count": 13,
   "metadata": {},
   "outputs": [],
   "source": [
    "def step_D(v, init_grad):\n",
    "    err = netD(v)\n",
    "    err.backward(init_grad)\n",
    "    return err"
   ]
  },
  {
   "cell_type": "code",
   "execution_count": 14,
   "metadata": {},
   "outputs": [],
   "source": [
    "def make_trainable(net, val): \n",
    "    for p in net.parameters(): p.requires_grad = val"
   ]
  },
  {
   "cell_type": "code",
   "execution_count": 15,
   "metadata": {},
   "outputs": [],
   "source": [
    "\n",
    "def train(niter, first=True):\n",
    "    gen_iterations = 0\n",
    "    for epoch in tqdm(range(niter)):\n",
    "        data_iter = iter(dataloader)\n",
    "        i = 0\n",
    "        while i < n:\n",
    "            make_trainable(netD, True)\n",
    "            d_iters = (100 if first and (gen_iterations < 25) or gen_iterations % 500 == 0 \n",
    "                       else 5)\n",
    "\n",
    "            j = 0\n",
    "            while j < d_iters and i < n:\n",
    "                j += 1; i += 1\n",
    "                for p in netD.parameters(): p.data.clamp_(-0.01, 0.01)\n",
    "                real = Variable(next(data_iter)[0].cuda())\n",
    "                netD.zero_grad()\n",
    "                errD_real = step_D(real, one)\n",
    "\n",
    "                fake = netG(create_noise(real.size()[0]))\n",
    "                input.data.resize_(real.size()).copy_(fake.data)\n",
    "                errD_fake = step_D(input, mone)\n",
    "                errD = errD_real - errD_fake\n",
    "                optimizerD.step()\n",
    "\n",
    "            make_trainable(netD, False)\n",
    "            netG.zero_grad()\n",
    "            errG = step_D(netG(create_noise(bs)), one)\n",
    "            optimizerG.step()\n",
    "            gen_iterations += 1\n",
    "        torch.save(netD.state_dict(), MODEL_PATH)\n",
    "        torch.save(netG.state_dict(), MODEL2_PATH)        "
   ]
  },
  {
   "cell_type": "code",
   "execution_count": 16,
   "metadata": {},
   "outputs": [],
   "source": [
    "if os.path.isfile(MODEL_PATH) and os.path.isfile(MODEL2_PATH):\n",
    "    netD.load_state_dict(torch.load(MODEL_PATH))\n",
    "    netG.load_state_dict(torch.load(MODEL2_PATH))\n",
    "else:\n",
    "    train(28, True)"
   ]
  },
  {
   "cell_type": "code",
   "execution_count": 17,
   "metadata": {},
   "outputs": [],
   "source": [
    "fake = netG(fixed_noise).data.cpu()"
   ]
  },
  {
   "cell_type": "code",
   "execution_count": 18,
   "metadata": {},
   "outputs": [
    {
     "data": {
      "text/plain": [
       "\n",
       "( 0 ,.,.) = \n",
       "  0.0000  0.0000  0.0000  ...   0.0000  0.0000  0.0000\n",
       "  0.0000  0.0000  0.0000  ...   0.0000  0.0000  0.0000\n",
       "  0.0000  0.0000  0.9987  ...   0.7225  0.0000  0.0000\n",
       "           ...             ⋱             ...          \n",
       "  0.0000  0.0000 -0.1336  ...  -0.1882  0.0000  0.0000\n",
       "  0.0000  0.0000  0.0000  ...   0.0000  0.0000  0.0000\n",
       "  0.0000  0.0000  0.0000  ...   0.0000  0.0000  0.0000\n",
       "\n",
       "( 1 ,.,.) = \n",
       "  0.0000  0.0000  0.0000  ...   0.0000  0.0000  0.0000\n",
       "  0.0000  0.0000  0.0000  ...   0.0000  0.0000  0.0000\n",
       "  0.0000  0.0000  0.9658  ...   0.1720  0.0000  0.0000\n",
       "           ...             ⋱             ...          \n",
       "  0.0000  0.0000 -0.1072  ...  -0.5064  0.0000  0.0000\n",
       "  0.0000  0.0000  0.0000  ...   0.0000  0.0000  0.0000\n",
       "  0.0000  0.0000  0.0000  ...   0.0000  0.0000  0.0000\n",
       "\n",
       "( 2 ,.,.) = \n",
       "  0.0000  0.0000  0.0000  ...   0.0000  0.0000  0.0000\n",
       "  0.0000  0.0000  0.0000  ...   0.0000  0.0000  0.0000\n",
       "  0.0000  0.0000  0.9866  ...  -0.4097  0.0000  0.0000\n",
       "           ...             ⋱             ...          \n",
       "  0.0000  0.0000 -0.1253  ...  -0.6617  0.0000  0.0000\n",
       "  0.0000  0.0000  0.0000  ...   0.0000  0.0000  0.0000\n",
       "  0.0000  0.0000  0.0000  ...   0.0000  0.0000  0.0000\n",
       "[torch.FloatTensor of size 3x530x530]"
      ]
     },
     "execution_count": 18,
     "metadata": {},
     "output_type": "execute_result"
    }
   ],
   "source": [
    "utils.make_grid(fake)"
   ]
  },
  {
   "cell_type": "code",
   "execution_count": 48,
   "metadata": {},
   "outputs": [
    {
     "data": {
      "text/plain": [
       "<matplotlib.image.AxesImage at 0x7f612fb4e320>"
      ]
     },
     "execution_count": 48,
     "metadata": {},
     "output_type": "execute_result"
    },
    {
     "data": {
      "image/png": "[encoded data removed]",
      "text/plain": [
       "<matplotlib.figure.Figure at 0x7f612fccd240>"
      ]
     },
     "metadata": {},
     "output_type": "display_data"
    }
   ],
   "source": [
    "im = fake / 2 +0.5\n",
    "im = im.numpy()\n",
    "plt.imshow(np.transpose(im[2], (1,2,0)))"
   ]
  },
  {
   "cell_type": "code",
   "execution_count": 73,
   "metadata": {},
   "outputs": [
    {
     "data": {
      "text/plain": [
       "<matplotlib.image.AxesImage at 0x7f612f541908>"
      ]
     },
     "execution_count": 73,
     "metadata": {},
     "output_type": "execute_result"
    },
    {
     "data": {
      "image/png": "[encoded data removed]",
      "text/plain": [
       "<matplotlib.figure.Figure at 0x7f612f5fd438>"
      ]
     },
     "metadata": {},
     "output_type": "display_data"
    }
   ],
   "source": [
    "orig = iter(dataloader).next()[0]\n",
    "orig = orig / 2 + 0.5\n",
    "orig = orig.numpy()\n",
    "plt.imshow(np.transpose(orig[2], (1,2,0)))"
   ]
  },
  {
   "cell_type": "code",
   "execution_count": null,
   "metadata": {},
   "outputs": [],
   "source": []
  }
 ],
 "metadata": {
  "kernelspec": {
   "display_name": "Python 3",
   "language": "python",
   "name": "python3"
  },
  "language_info": {
   "codemirror_mode": {
    "name": "ipython",
    "version": 3
   },
   "file_extension": ".py",
   "mimetype": "text/x-python",
   "name": "python",
   "nbconvert_exporter": "python",
   "pygments_lexer": "ipython3",
   "version": "3.6.3"
  }
 },
 "nbformat": 4,
 "nbformat_minor": 2
}
